{
 "cells": [
  {
   "cell_type": "code",
   "execution_count": 1,
   "id": "e8cd622c",
   "metadata": {},
   "outputs": [],
   "source": [
    "# Import dependencies.\n",
    "import pandas as pd\n",
    "import matplotlib.pyplot as plt"
   ]
  },
  {
   "cell_type": "code",
   "execution_count": 2,
   "id": "85bcf787",
   "metadata": {},
   "outputs": [],
   "source": [
    "# Load and read CSV files.\n",
    "complete_vertical_csv = '../csv/complete_data/complete_vertical.csv'\n",
    "complete_horizontal_csv = '../csv/complete_data/complete_horizontal.csv'\n",
    "\n",
    "complete_vertical = pd.read_csv(complete_vertical_csv)\n",
    "complete_horizontal = pd.read_csv(complete_horizontal_csv)"
   ]
  },
  {
   "cell_type": "code",
   "execution_count": 3,
   "id": "2a0b600b",
   "metadata": {},
   "outputs": [],
   "source": [
    "# Convert 'added' column into datetime format.\n",
    "complete_vertical['added'] = complete_vertical['added'].str.replace('-', '')\n",
    "\n",
    "complete_vertical['added'] = pd.to_datetime(complete_vertical['added'], format='%Y%m%d')"
   ]
  },
  {
   "cell_type": "code",
   "execution_count": 4,
   "id": "1ec6ec6a",
   "metadata": {},
   "outputs": [],
   "source": [
    "# Establish bins for categorizing scores.\n",
    "score_bins = [0, 10, 20, 30, 40, 50, 60, 70, 80, 90, 101]\n",
    "score_labels = [\"0-9\", \"10-19\", \"20-29\", \"30-39\", \"40-49\", \"50-59\", \"60-69\", \"70-79\", \"80-89\", \"90-100\"]"
   ]
  },
  {
   "cell_type": "code",
   "execution_count": 5,
   "id": "cc3f1a2f",
   "metadata": {},
   "outputs": [],
   "source": [
    "# Categorize the score of each title based on the score bins.\n",
    "complete_vertical[\"score_bin\"] = pd.cut(complete_vertical[\"score\"], score_bins, labels=score_labels, include_lowest=True)"
   ]
  },
  {
   "cell_type": "code",
   "execution_count": 41,
   "id": "92eed8ae",
   "metadata": {},
   "outputs": [],
   "source": [
    "# Establish bins for categorizing release years.\n",
    "release_bins = [1920, 1929, 1939, 1949, 1959, 1969, 1979, 1989, 1999, 2009, 2019, 2022]\n",
    "release_labels = [\"1920s\", \"1930s\", \"1940s\", \"1950s\", \"1960s\", \"1970s\", \"1980s\", \"1990s\", \"2000s\", \"2010s\", \"2020s\"]"
   ]
  },
  {
   "cell_type": "code",
   "execution_count": 42,
   "id": "85fc459a",
   "metadata": {},
   "outputs": [],
   "source": [
    "# Categorize the score of each title based on the score bins.\n",
    "complete_vertical[\"release_decade\"] = pd.cut(complete_vertical[\"release\"], release_bins, labels=release_labels, include_lowest=True)"
   ]
  },
  {
   "cell_type": "code",
   "execution_count": 43,
   "id": "7146b691",
   "metadata": {},
   "outputs": [
    {
     "data": {
      "text/html": [
       "<div>\n",
       "<style scoped>\n",
       "    .dataframe tbody tr th:only-of-type {\n",
       "        vertical-align: middle;\n",
       "    }\n",
       "\n",
       "    .dataframe tbody tr th {\n",
       "        vertical-align: top;\n",
       "    }\n",
       "\n",
       "    .dataframe thead th {\n",
       "        text-align: right;\n",
       "    }\n",
       "</style>\n",
       "<table border=\"1\" class=\"dataframe\">\n",
       "  <thead>\n",
       "    <tr style=\"text-align: right;\">\n",
       "      <th></th>\n",
       "      <th>ID</th>\n",
       "      <th>title</th>\n",
       "      <th>score</th>\n",
       "      <th>director</th>\n",
       "      <th>cast</th>\n",
       "      <th>country</th>\n",
       "      <th>added</th>\n",
       "      <th>release</th>\n",
       "      <th>rating</th>\n",
       "      <th>duration</th>\n",
       "      <th>listed_in</th>\n",
       "      <th>description</th>\n",
       "      <th>platform</th>\n",
       "      <th>score_bin</th>\n",
       "      <th>release_decade</th>\n",
       "    </tr>\n",
       "  </thead>\n",
       "  <tbody>\n",
       "    <tr>\n",
       "      <th>0</th>\n",
       "      <td>1</td>\n",
       "      <td>The Irishman</td>\n",
       "      <td>98</td>\n",
       "      <td>Martin Scorsese</td>\n",
       "      <td>Robert De Niro, Al Pacino, Joe Pesci, Harvey K...</td>\n",
       "      <td>United States</td>\n",
       "      <td>2019-11-27</td>\n",
       "      <td>2019</td>\n",
       "      <td>R</td>\n",
       "      <td>209 min</td>\n",
       "      <td>Drama</td>\n",
       "      <td>Hit man Frank Sheeran looks back at the secret...</td>\n",
       "      <td>Netflix</td>\n",
       "      <td>90-100</td>\n",
       "      <td>2010s</td>\n",
       "    </tr>\n",
       "    <tr>\n",
       "      <th>1</th>\n",
       "      <td>2</td>\n",
       "      <td>Dangal</td>\n",
       "      <td>97</td>\n",
       "      <td>Nitesh Tiwari</td>\n",
       "      <td>Aamir Khan, Sakshi Tanwar, Fatima Sana Shaikh,...</td>\n",
       "      <td>India</td>\n",
       "      <td>2017-06-21</td>\n",
       "      <td>2016</td>\n",
       "      <td>TV-PG</td>\n",
       "      <td>161 min</td>\n",
       "      <td>Drama</td>\n",
       "      <td>A once-promising wrestler pursues the gold med...</td>\n",
       "      <td>Netflix</td>\n",
       "      <td>90-100</td>\n",
       "      <td>2010s</td>\n",
       "    </tr>\n",
       "    <tr>\n",
       "      <th>2</th>\n",
       "      <td>2</td>\n",
       "      <td>Dangal</td>\n",
       "      <td>97</td>\n",
       "      <td>Nitesh Tiwari</td>\n",
       "      <td>Aamir Khan, Sakshi Tanwar, Fatima Sana Shaikh,...</td>\n",
       "      <td>India</td>\n",
       "      <td>2017-06-21</td>\n",
       "      <td>2016</td>\n",
       "      <td>TV-PG</td>\n",
       "      <td>161 min</td>\n",
       "      <td>International</td>\n",
       "      <td>A once-promising wrestler pursues the gold med...</td>\n",
       "      <td>Netflix</td>\n",
       "      <td>90-100</td>\n",
       "      <td>2010s</td>\n",
       "    </tr>\n",
       "    <tr>\n",
       "      <th>3</th>\n",
       "      <td>2</td>\n",
       "      <td>Dangal</td>\n",
       "      <td>97</td>\n",
       "      <td>Nitesh Tiwari</td>\n",
       "      <td>Aamir Khan, Sakshi Tanwar, Fatima Sana Shaikh,...</td>\n",
       "      <td>India</td>\n",
       "      <td>2017-06-21</td>\n",
       "      <td>2016</td>\n",
       "      <td>TV-PG</td>\n",
       "      <td>161 min</td>\n",
       "      <td>Sports</td>\n",
       "      <td>A once-promising wrestler pursues the gold med...</td>\n",
       "      <td>Netflix</td>\n",
       "      <td>90-100</td>\n",
       "      <td>2010s</td>\n",
       "    </tr>\n",
       "    <tr>\n",
       "      <th>4</th>\n",
       "      <td>3</td>\n",
       "      <td>David Attenborough: A Life on Our Planet</td>\n",
       "      <td>95</td>\n",
       "      <td>Alastair Fothergill, Jonnie Hughes, Keith Scholey</td>\n",
       "      <td>David Attenborough</td>\n",
       "      <td>United States, United Kingdom</td>\n",
       "      <td>2020-10-04</td>\n",
       "      <td>2020</td>\n",
       "      <td>PG</td>\n",
       "      <td>84 min</td>\n",
       "      <td>Documentaries</td>\n",
       "      <td>A broadcaster recounts his life, and the evolu...</td>\n",
       "      <td>Netflix</td>\n",
       "      <td>90-100</td>\n",
       "      <td>2020s</td>\n",
       "    </tr>\n",
       "    <tr>\n",
       "      <th>...</th>\n",
       "      <td>...</td>\n",
       "      <td>...</td>\n",
       "      <td>...</td>\n",
       "      <td>...</td>\n",
       "      <td>...</td>\n",
       "      <td>...</td>\n",
       "      <td>...</td>\n",
       "      <td>...</td>\n",
       "      <td>...</td>\n",
       "      <td>...</td>\n",
       "      <td>...</td>\n",
       "      <td>...</td>\n",
       "      <td>...</td>\n",
       "      <td>...</td>\n",
       "      <td>...</td>\n",
       "    </tr>\n",
       "    <tr>\n",
       "      <th>15369</th>\n",
       "      <td>6954</td>\n",
       "      <td>Doc McStuffins: The Doc Is In</td>\n",
       "      <td>13</td>\n",
       "      <td>Chris Hamilton</td>\n",
       "      <td>Laya DeLeon Hayes, Loretta Devine, Lara Jill M...</td>\n",
       "      <td>NaN</td>\n",
       "      <td>2021-03-12</td>\n",
       "      <td>2020</td>\n",
       "      <td>TV-Y</td>\n",
       "      <td>24 min</td>\n",
       "      <td>Kids</td>\n",
       "      <td>Doc McStuffins helps kids learn about healthy ...</td>\n",
       "      <td>Disney Plus</td>\n",
       "      <td>10-19</td>\n",
       "      <td>2020s</td>\n",
       "    </tr>\n",
       "    <tr>\n",
       "      <th>15370</th>\n",
       "      <td>6954</td>\n",
       "      <td>Doc McStuffins: The Doc Is In</td>\n",
       "      <td>13</td>\n",
       "      <td>Chris Hamilton</td>\n",
       "      <td>Laya DeLeon Hayes, Loretta Devine, Lara Jill M...</td>\n",
       "      <td>NaN</td>\n",
       "      <td>2021-03-12</td>\n",
       "      <td>2020</td>\n",
       "      <td>TV-Y</td>\n",
       "      <td>24 min</td>\n",
       "      <td>Medical</td>\n",
       "      <td>Doc McStuffins helps kids learn about healthy ...</td>\n",
       "      <td>Disney Plus</td>\n",
       "      <td>10-19</td>\n",
       "      <td>2020s</td>\n",
       "    </tr>\n",
       "    <tr>\n",
       "      <th>15371</th>\n",
       "      <td>6955</td>\n",
       "      <td>Ultimate Viking Sword</td>\n",
       "      <td>13</td>\n",
       "      <td>Peter Yost</td>\n",
       "      <td>Jay Sanders</td>\n",
       "      <td>NaN</td>\n",
       "      <td>2020-11-13</td>\n",
       "      <td>2019</td>\n",
       "      <td>TV-PG</td>\n",
       "      <td>45 min</td>\n",
       "      <td>Documentaries</td>\n",
       "      <td>National Geographic reconstructs the Ulfberht,...</td>\n",
       "      <td>Disney Plus</td>\n",
       "      <td>10-19</td>\n",
       "      <td>2010s</td>\n",
       "    </tr>\n",
       "    <tr>\n",
       "      <th>15372</th>\n",
       "      <td>6955</td>\n",
       "      <td>Ultimate Viking Sword</td>\n",
       "      <td>13</td>\n",
       "      <td>Peter Yost</td>\n",
       "      <td>Jay Sanders</td>\n",
       "      <td>NaN</td>\n",
       "      <td>2020-11-13</td>\n",
       "      <td>2019</td>\n",
       "      <td>TV-PG</td>\n",
       "      <td>45 min</td>\n",
       "      <td>History</td>\n",
       "      <td>National Geographic reconstructs the Ulfberht,...</td>\n",
       "      <td>Disney Plus</td>\n",
       "      <td>10-19</td>\n",
       "      <td>2010s</td>\n",
       "    </tr>\n",
       "    <tr>\n",
       "      <th>15373</th>\n",
       "      <td>6956</td>\n",
       "      <td>Hunt for the Abominable Snowman</td>\n",
       "      <td>10</td>\n",
       "      <td>Dan Oliver</td>\n",
       "      <td>Stephen Rashbrook</td>\n",
       "      <td>NaN</td>\n",
       "      <td>2020-07-31</td>\n",
       "      <td>2011</td>\n",
       "      <td>TV-PG</td>\n",
       "      <td>45 min</td>\n",
       "      <td>Documentaries</td>\n",
       "      <td>Across the Himalayas are stories of the yeti, ...</td>\n",
       "      <td>Disney Plus</td>\n",
       "      <td>0-9</td>\n",
       "      <td>2010s</td>\n",
       "    </tr>\n",
       "  </tbody>\n",
       "</table>\n",
       "<p>15374 rows × 15 columns</p>\n",
       "</div>"
      ],
      "text/plain": [
       "         ID                                     title  score  \\\n",
       "0         1                              The Irishman     98   \n",
       "1         2                                    Dangal     97   \n",
       "2         2                                    Dangal     97   \n",
       "3         2                                    Dangal     97   \n",
       "4         3  David Attenborough: A Life on Our Planet     95   \n",
       "...     ...                                       ...    ...   \n",
       "15369  6954             Doc McStuffins: The Doc Is In     13   \n",
       "15370  6954             Doc McStuffins: The Doc Is In     13   \n",
       "15371  6955                     Ultimate Viking Sword     13   \n",
       "15372  6955                     Ultimate Viking Sword     13   \n",
       "15373  6956           Hunt for the Abominable Snowman     10   \n",
       "\n",
       "                                                director  \\\n",
       "0                                        Martin Scorsese   \n",
       "1                                          Nitesh Tiwari   \n",
       "2                                          Nitesh Tiwari   \n",
       "3                                          Nitesh Tiwari   \n",
       "4      Alastair Fothergill, Jonnie Hughes, Keith Scholey   \n",
       "...                                                  ...   \n",
       "15369                                     Chris Hamilton   \n",
       "15370                                     Chris Hamilton   \n",
       "15371                                         Peter Yost   \n",
       "15372                                         Peter Yost   \n",
       "15373                                         Dan Oliver   \n",
       "\n",
       "                                                    cast  \\\n",
       "0      Robert De Niro, Al Pacino, Joe Pesci, Harvey K...   \n",
       "1      Aamir Khan, Sakshi Tanwar, Fatima Sana Shaikh,...   \n",
       "2      Aamir Khan, Sakshi Tanwar, Fatima Sana Shaikh,...   \n",
       "3      Aamir Khan, Sakshi Tanwar, Fatima Sana Shaikh,...   \n",
       "4                                     David Attenborough   \n",
       "...                                                  ...   \n",
       "15369  Laya DeLeon Hayes, Loretta Devine, Lara Jill M...   \n",
       "15370  Laya DeLeon Hayes, Loretta Devine, Lara Jill M...   \n",
       "15371                                        Jay Sanders   \n",
       "15372                                        Jay Sanders   \n",
       "15373                                  Stephen Rashbrook   \n",
       "\n",
       "                             country      added  release rating duration  \\\n",
       "0                      United States 2019-11-27     2019      R  209 min   \n",
       "1                              India 2017-06-21     2016  TV-PG  161 min   \n",
       "2                              India 2017-06-21     2016  TV-PG  161 min   \n",
       "3                              India 2017-06-21     2016  TV-PG  161 min   \n",
       "4      United States, United Kingdom 2020-10-04     2020     PG   84 min   \n",
       "...                              ...        ...      ...    ...      ...   \n",
       "15369                            NaN 2021-03-12     2020   TV-Y   24 min   \n",
       "15370                            NaN 2021-03-12     2020   TV-Y   24 min   \n",
       "15371                            NaN 2020-11-13     2019  TV-PG   45 min   \n",
       "15372                            NaN 2020-11-13     2019  TV-PG   45 min   \n",
       "15373                            NaN 2020-07-31     2011  TV-PG   45 min   \n",
       "\n",
       "           listed_in                                        description  \\\n",
       "0              Drama  Hit man Frank Sheeran looks back at the secret...   \n",
       "1              Drama  A once-promising wrestler pursues the gold med...   \n",
       "2      International  A once-promising wrestler pursues the gold med...   \n",
       "3             Sports  A once-promising wrestler pursues the gold med...   \n",
       "4      Documentaries  A broadcaster recounts his life, and the evolu...   \n",
       "...              ...                                                ...   \n",
       "15369           Kids  Doc McStuffins helps kids learn about healthy ...   \n",
       "15370        Medical  Doc McStuffins helps kids learn about healthy ...   \n",
       "15371  Documentaries  National Geographic reconstructs the Ulfberht,...   \n",
       "15372        History  National Geographic reconstructs the Ulfberht,...   \n",
       "15373  Documentaries  Across the Himalayas are stories of the yeti, ...   \n",
       "\n",
       "          platform score_bin release_decade  \n",
       "0          Netflix    90-100          2010s  \n",
       "1          Netflix    90-100          2010s  \n",
       "2          Netflix    90-100          2010s  \n",
       "3          Netflix    90-100          2010s  \n",
       "4          Netflix    90-100          2020s  \n",
       "...            ...       ...            ...  \n",
       "15369  Disney Plus     10-19          2020s  \n",
       "15370  Disney Plus     10-19          2020s  \n",
       "15371  Disney Plus     10-19          2010s  \n",
       "15372  Disney Plus     10-19          2010s  \n",
       "15373  Disney Plus       0-9          2010s  \n",
       "\n",
       "[15374 rows x 15 columns]"
      ]
     },
     "execution_count": 43,
     "metadata": {},
     "output_type": "execute_result"
    }
   ],
   "source": [
    "# Preview data.\n",
    "complete_vertical"
   ]
  },
  {
   "cell_type": "code",
   "execution_count": 44,
   "id": "f1445e6c",
   "metadata": {},
   "outputs": [
    {
     "data": {
      "text/plain": [
       "Netflix         7118\n",
       "Amazon Prime    4748\n",
       "Disney Plus     2009\n",
       "Hulu            1499\n",
       "Name: platform, dtype: int64"
      ]
     },
     "execution_count": 44,
     "metadata": {},
     "output_type": "execute_result"
    }
   ],
   "source": [
    "# Get value counts for each platform in the dataset.\n",
    "complete_vertical['platform'].value_counts()"
   ]
  },
  {
   "cell_type": "code",
   "execution_count": 45,
   "id": "8727bfa4",
   "metadata": {},
   "outputs": [
    {
     "data": {
      "text/html": [
       "<div>\n",
       "<style scoped>\n",
       "    .dataframe tbody tr th:only-of-type {\n",
       "        vertical-align: middle;\n",
       "    }\n",
       "\n",
       "    .dataframe tbody tr th {\n",
       "        vertical-align: top;\n",
       "    }\n",
       "\n",
       "    .dataframe thead th {\n",
       "        text-align: right;\n",
       "    }\n",
       "</style>\n",
       "<table border=\"1\" class=\"dataframe\">\n",
       "  <thead>\n",
       "    <tr style=\"text-align: right;\">\n",
       "      <th></th>\n",
       "      <th>listed_in</th>\n",
       "    </tr>\n",
       "  </thead>\n",
       "  <tbody>\n",
       "    <tr>\n",
       "      <th>Drama</th>\n",
       "      <td>2787</td>\n",
       "    </tr>\n",
       "    <tr>\n",
       "      <th>Comedies</th>\n",
       "      <td>2012</td>\n",
       "    </tr>\n",
       "    <tr>\n",
       "      <th>International</th>\n",
       "      <td>1678</td>\n",
       "    </tr>\n",
       "    <tr>\n",
       "      <th>Action &amp; Adventure</th>\n",
       "      <td>1486</td>\n",
       "    </tr>\n",
       "    <tr>\n",
       "      <th>Horror &amp; Suspense</th>\n",
       "      <td>1054</td>\n",
       "    </tr>\n",
       "    <tr>\n",
       "      <th>Documentaries</th>\n",
       "      <td>826</td>\n",
       "    </tr>\n",
       "    <tr>\n",
       "      <th>Romance</th>\n",
       "      <td>630</td>\n",
       "    </tr>\n",
       "    <tr>\n",
       "      <th>Family</th>\n",
       "      <td>423</td>\n",
       "    </tr>\n",
       "    <tr>\n",
       "      <th>Thriller</th>\n",
       "      <td>421</td>\n",
       "    </tr>\n",
       "    <tr>\n",
       "      <th>Independent Movies</th>\n",
       "      <td>414</td>\n",
       "    </tr>\n",
       "  </tbody>\n",
       "</table>\n",
       "</div>"
      ],
      "text/plain": [
       "                    listed_in\n",
       "Drama                    2787\n",
       "Comedies                 2012\n",
       "International            1678\n",
       "Action & Adventure       1486\n",
       "Horror & Suspense        1054\n",
       "Documentaries             826\n",
       "Romance                   630\n",
       "Family                    423\n",
       "Thriller                  421\n",
       "Independent Movies        414"
      ]
     },
     "execution_count": 45,
     "metadata": {},
     "output_type": "execute_result"
    }
   ],
   "source": [
    "x = complete_vertical['listed_in'].value_counts().head(10)\n",
    "\n",
    "top_10_genres = pd.DataFrame(x)\n",
    "\n",
    "top_10_genres"
   ]
  },
  {
   "cell_type": "code",
   "execution_count": 46,
   "id": "ec2a35e0",
   "metadata": {},
   "outputs": [
    {
     "data": {
      "image/png": "[encoded data removed]",
      "text/plain": [
       "<Figure size 640x480 with 1 Axes>"
      ]
     },
     "metadata": {},
     "output_type": "display_data"
    }
   ],
   "source": [
    "top_10_genres.plot(kind = 'bar', xlabel = 'Genre', ylabel = 'Number of Movies Listed', \n",
    "                   title = 'Top 10 Genres Across Platforms', legend = False)\n",
    "plt.show()"
   ]
  },
  {
   "cell_type": "code",
   "execution_count": 47,
   "id": "21ead7b5",
   "metadata": {},
   "outputs": [
    {
     "data": {
      "text/plain": [
       "International               1533\n",
       "Drama                       1402\n",
       "Comedies                     944\n",
       "Action & Adventure           441\n",
       "Independent Movies           414\n",
       "Documentaries                381\n",
       "Romance                      370\n",
       "Thriller                     315\n",
       "Children & Family Movies     308\n",
       "Stand Up                     248\n",
       "Name: listed_in, dtype: int64"
      ]
     },
     "execution_count": 47,
     "metadata": {},
     "output_type": "execute_result"
    }
   ],
   "source": [
    "netflix_data = complete_vertical[complete_vertical['platform'] == 'Netflix']\n",
    "\n",
    "netflix_top_10_genres = netflix_data['listed_in'].value_counts().head(10)\n",
    "\n",
    "netflix_top_10_genres"
   ]
  },
  {
   "cell_type": "code",
   "execution_count": 48,
   "id": "32935f54",
   "metadata": {},
   "outputs": [
    {
     "data": {
      "text/plain": [
       "TV-MA    2784\n",
       "TV-14    1917\n",
       "R         735\n",
       "TV-PG     588\n",
       "PG-13     486\n",
       "PG        266\n",
       "TV-G      141\n",
       "TV-Y       81\n",
       "TV-Y7      68\n",
       "G          40\n",
       "NR         10\n",
       "NC-17       2\n",
       "Name: rating, dtype: int64"
      ]
     },
     "execution_count": 48,
     "metadata": {},
     "output_type": "execute_result"
    }
   ],
   "source": [
    "netflix_data['rating'].value_counts()"
   ]
  },
  {
   "cell_type": "code",
   "execution_count": 49,
   "id": "c2ab49c6",
   "metadata": {},
   "outputs": [
    {
     "data": {
      "text/plain": [
       "Drama                 1001\n",
       "Horror & Suspense      747\n",
       "Comedies               606\n",
       "Action & Adventure     579\n",
       "Documentaries          207\n",
       "Special Interest       192\n",
       "Romance                172\n",
       "Entertainment          163\n",
       "Arts                   163\n",
       "Sci-Fi & Fantasy       144\n",
       "Name: listed_in, dtype: int64"
      ]
     },
     "execution_count": 49,
     "metadata": {},
     "output_type": "execute_result"
    }
   ],
   "source": [
    "amazon_prime_data = complete_vertical[complete_vertical['platform'] == 'Amazon Prime']\n",
    "\n",
    "amazon_prime_top_10_genres = amazon_prime_data['listed_in'].value_counts().head(10)\n",
    "\n",
    "amazon_prime_top_10_genres"
   ]
  },
  {
   "cell_type": "code",
   "execution_count": 50,
   "id": "52547663",
   "metadata": {},
   "outputs": [
    {
     "data": {
      "text/plain": [
       "13+         1025\n",
       "R            966\n",
       "18+          779\n",
       "16+          566\n",
       "PG-13        356\n",
       "ALL          226\n",
       "PG           221\n",
       "7+           126\n",
       "NR            46\n",
       "G             41\n",
       "AGES_18_       8\n",
       "UNRATED        7\n",
       "AGES_16_       5\n",
       "NC-17          2\n",
       "16             1\n",
       "Name: rating, dtype: int64"
      ]
     },
     "execution_count": 50,
     "metadata": {},
     "output_type": "execute_result"
    }
   ],
   "source": [
    "amazon_prime_data['rating'].value_counts()"
   ]
  },
  {
   "cell_type": "code",
   "execution_count": 51,
   "id": "fd80b1ac",
   "metadata": {},
   "outputs": [
    {
     "data": {
      "text/plain": [
       "Family                396\n",
       "Comedies              289\n",
       "Animation             270\n",
       "Action & Adventure    217\n",
       "Coming of Age         120\n",
       "Documentaries         117\n",
       "Animals & Nature      102\n",
       "Fantasy               102\n",
       "Drama                  98\n",
       "Music                  56\n",
       "Name: listed_in, dtype: int64"
      ]
     },
     "execution_count": 51,
     "metadata": {},
     "output_type": "execute_result"
    }
   ],
   "source": [
    "disney_plus_data = complete_vertical[complete_vertical['platform'] == 'Disney Plus']\n",
    "\n",
    "disney_plus_top_10_genres = disney_plus_data['listed_in'].value_counts().head(10)\n",
    "\n",
    "disney_plus_top_10_genres"
   ]
  },
  {
   "cell_type": "code",
   "execution_count": 52,
   "id": "9dcdd3c9",
   "metadata": {},
   "outputs": [
    {
     "data": {
      "text/plain": [
       "G           550\n",
       "PG          517\n",
       "TV-G        447\n",
       "TV-PG       301\n",
       "PG-13        67\n",
       "TV-Y7        61\n",
       "TV-14        51\n",
       "TV-Y          6\n",
       "TV-Y7-FV      6\n",
       "Name: rating, dtype: int64"
      ]
     },
     "execution_count": 52,
     "metadata": {},
     "output_type": "execute_result"
    }
   ],
   "source": [
    "disney_plus_data['rating'].value_counts()"
   ]
  },
  {
   "cell_type": "code",
   "execution_count": 53,
   "id": "14db6204",
   "metadata": {},
   "outputs": [
    {
     "data": {
      "text/plain": [
       "Drama                 286\n",
       "Action & Adventure    249\n",
       "Comedies              173\n",
       "Horror & Suspense     139\n",
       "Documentaries         121\n",
       "Thriller              104\n",
       "Romance                76\n",
       "Crime                  43\n",
       "LGBTQ                  43\n",
       "Sci-Fi & Fantasy       41\n",
       "Name: listed_in, dtype: int64"
      ]
     },
     "execution_count": 53,
     "metadata": {},
     "output_type": "execute_result"
    }
   ],
   "source": [
    "hulu_data = complete_vertical[complete_vertical['platform'] == 'Hulu']\n",
    "\n",
    "hulu_top_10_genres = hulu_data['listed_in'].value_counts().head(10)\n",
    "\n",
    "hulu_top_10_genres"
   ]
  },
  {
   "cell_type": "code",
   "execution_count": 54,
   "id": "e5815e06",
   "metadata": {},
   "outputs": [
    {
     "data": {
      "text/plain": [
       "R        475\n",
       "PG-13    184\n",
       "PG        98\n",
       "TV-MA     91\n",
       "TV-14     51\n",
       "TV-PG     27\n",
       "G         17\n",
       "TV-G      11\n",
       "TV-Y       9\n",
       "TV-Y7      9\n",
       "NR         2\n",
       "Name: rating, dtype: int64"
      ]
     },
     "execution_count": 54,
     "metadata": {},
     "output_type": "execute_result"
    }
   ],
   "source": [
    "hulu_data['rating'].value_counts()"
   ]
  },
  {
   "cell_type": "code",
   "execution_count": 55,
   "id": "0dfecb72",
   "metadata": {},
   "outputs": [
    {
     "data": {
      "text/plain": [
       "ID                         int64\n",
       "title                     object\n",
       "score                      int64\n",
       "director                  object\n",
       "cast                      object\n",
       "country                   object\n",
       "added             datetime64[ns]\n",
       "release                    int64\n",
       "rating                    object\n",
       "duration                  object\n",
       "listed_in                 object\n",
       "description               object\n",
       "platform                  object\n",
       "score_bin               category\n",
       "release_decade          category\n",
       "dtype: object"
      ]
     },
     "execution_count": 55,
     "metadata": {},
     "output_type": "execute_result"
    }
   ],
   "source": [
    "complete_vertical.dtypes"
   ]
  },
  {
   "cell_type": "code",
   "execution_count": 56,
   "id": "578ddbbe",
   "metadata": {},
   "outputs": [
    {
     "data": {
      "text/plain": [
       "Timestamp('2008-01-01 00:00:00')"
      ]
     },
     "execution_count": 56,
     "metadata": {},
     "output_type": "execute_result"
    }
   ],
   "source": [
    "complete_vertical['added'].min()"
   ]
  },
  {
   "cell_type": "code",
   "execution_count": 57,
   "id": "13fa3f98",
   "metadata": {},
   "outputs": [
    {
     "data": {
      "text/plain": [
       "Timestamp('2021-11-19 00:00:00')"
      ]
     },
     "execution_count": 57,
     "metadata": {},
     "output_type": "execute_result"
    }
   ],
   "source": [
    "complete_vertical['added'].max()"
   ]
  },
  {
   "cell_type": "code",
   "execution_count": 58,
   "id": "c3414706",
   "metadata": {},
   "outputs": [
    {
     "data": {
      "text/plain": [
       "Timestamp('2008-01-01 00:00:00')"
      ]
     },
     "execution_count": 58,
     "metadata": {},
     "output_type": "execute_result"
    }
   ],
   "source": [
    "netflix_data['added'].min()"
   ]
  },
  {
   "cell_type": "code",
   "execution_count": 59,
   "id": "e269823c",
   "metadata": {},
   "outputs": [
    {
     "data": {
      "text/plain": [
       "Timestamp('2021-09-25 00:00:00')"
      ]
     },
     "execution_count": 59,
     "metadata": {},
     "output_type": "execute_result"
    }
   ],
   "source": [
    "netflix_data['added'].max()"
   ]
  },
  {
   "cell_type": "code",
   "execution_count": 60,
   "id": "375db701",
   "metadata": {},
   "outputs": [
    {
     "data": {
      "text/plain": [
       "Timestamp('2021-03-30 00:00:00')"
      ]
     },
     "execution_count": 60,
     "metadata": {},
     "output_type": "execute_result"
    }
   ],
   "source": [
    "amazon_prime_data['added'].min()"
   ]
  },
  {
   "cell_type": "code",
   "execution_count": 61,
   "id": "267694ed",
   "metadata": {},
   "outputs": [
    {
     "data": {
      "text/plain": [
       "Timestamp('2021-06-03 00:00:00')"
      ]
     },
     "execution_count": 61,
     "metadata": {},
     "output_type": "execute_result"
    }
   ],
   "source": [
    "amazon_prime_data['added'].max()"
   ]
  },
  {
   "cell_type": "code",
   "execution_count": 62,
   "id": "77696820",
   "metadata": {},
   "outputs": [
    {
     "data": {
      "text/plain": [
       "Timestamp('2019-10-01 00:00:00')"
      ]
     },
     "execution_count": 62,
     "metadata": {},
     "output_type": "execute_result"
    }
   ],
   "source": [
    "disney_plus_data['added'].min()"
   ]
  },
  {
   "cell_type": "code",
   "execution_count": 63,
   "id": "01ca3bcf",
   "metadata": {},
   "outputs": [
    {
     "data": {
      "text/plain": [
       "Timestamp('2021-11-19 00:00:00')"
      ]
     },
     "execution_count": 63,
     "metadata": {},
     "output_type": "execute_result"
    }
   ],
   "source": [
    "disney_plus_data['added'].max()"
   ]
  },
  {
   "cell_type": "code",
   "execution_count": 64,
   "id": "a250abcf",
   "metadata": {},
   "outputs": [
    {
     "data": {
      "text/plain": [
       "Timestamp('2014-04-25 00:00:00')"
      ]
     },
     "execution_count": 64,
     "metadata": {},
     "output_type": "execute_result"
    }
   ],
   "source": [
    "hulu_data['added'].min()"
   ]
  },
  {
   "cell_type": "code",
   "execution_count": 65,
   "id": "aa2a5de7",
   "metadata": {},
   "outputs": [
    {
     "data": {
      "text/plain": [
       "Timestamp('2021-10-23 00:00:00')"
      ]
     },
     "execution_count": 65,
     "metadata": {},
     "output_type": "execute_result"
    }
   ],
   "source": [
    "hulu_data['added'].max()"
   ]
  },
  {
   "cell_type": "code",
   "execution_count": 66,
   "id": "c093708a",
   "metadata": {},
   "outputs": [
    {
     "data": {
      "text/html": [
       "<div>\n",
       "<style scoped>\n",
       "    .dataframe tbody tr th:only-of-type {\n",
       "        vertical-align: middle;\n",
       "    }\n",
       "\n",
       "    .dataframe tbody tr th {\n",
       "        vertical-align: top;\n",
       "    }\n",
       "\n",
       "    .dataframe thead th {\n",
       "        text-align: right;\n",
       "    }\n",
       "</style>\n",
       "<table border=\"1\" class=\"dataframe\">\n",
       "  <thead>\n",
       "    <tr style=\"text-align: right;\">\n",
       "      <th></th>\n",
       "      <th>title</th>\n",
       "    </tr>\n",
       "    <tr>\n",
       "      <th>score_bin</th>\n",
       "      <th></th>\n",
       "    </tr>\n",
       "  </thead>\n",
       "  <tbody>\n",
       "    <tr>\n",
       "      <th>0-9</th>\n",
       "      <td>24</td>\n",
       "    </tr>\n",
       "    <tr>\n",
       "      <th>10-19</th>\n",
       "      <td>74</td>\n",
       "    </tr>\n",
       "    <tr>\n",
       "      <th>20-29</th>\n",
       "      <td>22</td>\n",
       "    </tr>\n",
       "    <tr>\n",
       "      <th>30-39</th>\n",
       "      <td>829</td>\n",
       "    </tr>\n",
       "    <tr>\n",
       "      <th>40-49</th>\n",
       "      <td>1884</td>\n",
       "    </tr>\n",
       "    <tr>\n",
       "      <th>50-59</th>\n",
       "      <td>1970</td>\n",
       "    </tr>\n",
       "    <tr>\n",
       "      <th>60-69</th>\n",
       "      <td>1292</td>\n",
       "    </tr>\n",
       "    <tr>\n",
       "      <th>70-79</th>\n",
       "      <td>733</td>\n",
       "    </tr>\n",
       "    <tr>\n",
       "      <th>80-89</th>\n",
       "      <td>269</td>\n",
       "    </tr>\n",
       "    <tr>\n",
       "      <th>90-100</th>\n",
       "      <td>21</td>\n",
       "    </tr>\n",
       "  </tbody>\n",
       "</table>\n",
       "</div>"
      ],
      "text/plain": [
       "           title\n",
       "score_bin       \n",
       "0-9           24\n",
       "10-19         74\n",
       "20-29         22\n",
       "30-39        829\n",
       "40-49       1884\n",
       "50-59       1970\n",
       "60-69       1292\n",
       "70-79        733\n",
       "80-89        269\n",
       "90-100        21"
      ]
     },
     "execution_count": 66,
     "metadata": {},
     "output_type": "execute_result"
    }
   ],
   "source": [
    "netflix_bins = pd.DataFrame(netflix_data.groupby(['score_bin']).count()['title'])\n",
    "netflix_bins"
   ]
  },
  {
   "cell_type": "code",
   "execution_count": 77,
   "id": "8e44cd9e",
   "metadata": {},
   "outputs": [
    {
     "data": {
      "image/png": "[encoded data removed]",
      "text/plain": [
       "<Figure size 640x480 with 1 Axes>"
      ]
     },
     "metadata": {},
     "output_type": "display_data"
    }
   ],
   "source": [
    "# Create a bar graph of the DataFrame.\n",
    "netflix_bins.plot(kind = 'bar', xlabel = 'Score Bin', ylabel = 'Number of Movies', \n",
    "                   title = 'Netflix Scores', legend = False, color = 'red')\n",
    "plt.xticks(rotation = 45)\n",
    "plt.show()"
   ]
  },
  {
   "cell_type": "code",
   "execution_count": 68,
   "id": "41bf76d7",
   "metadata": {},
   "outputs": [
    {
     "data": {
      "text/html": [
       "<div>\n",
       "<style scoped>\n",
       "    .dataframe tbody tr th:only-of-type {\n",
       "        vertical-align: middle;\n",
       "    }\n",
       "\n",
       "    .dataframe tbody tr th {\n",
       "        vertical-align: top;\n",
       "    }\n",
       "\n",
       "    .dataframe thead th {\n",
       "        text-align: right;\n",
       "    }\n",
       "</style>\n",
       "<table border=\"1\" class=\"dataframe\">\n",
       "  <thead>\n",
       "    <tr style=\"text-align: right;\">\n",
       "      <th></th>\n",
       "      <th>title</th>\n",
       "    </tr>\n",
       "    <tr>\n",
       "      <th>score_bin</th>\n",
       "      <th></th>\n",
       "    </tr>\n",
       "  </thead>\n",
       "  <tbody>\n",
       "    <tr>\n",
       "      <th>0-9</th>\n",
       "      <td>0</td>\n",
       "    </tr>\n",
       "    <tr>\n",
       "      <th>10-19</th>\n",
       "      <td>33</td>\n",
       "    </tr>\n",
       "    <tr>\n",
       "      <th>20-29</th>\n",
       "      <td>11</td>\n",
       "    </tr>\n",
       "    <tr>\n",
       "      <th>30-39</th>\n",
       "      <td>679</td>\n",
       "    </tr>\n",
       "    <tr>\n",
       "      <th>40-49</th>\n",
       "      <td>1612</td>\n",
       "    </tr>\n",
       "    <tr>\n",
       "      <th>50-59</th>\n",
       "      <td>1426</td>\n",
       "    </tr>\n",
       "    <tr>\n",
       "      <th>60-69</th>\n",
       "      <td>690</td>\n",
       "    </tr>\n",
       "    <tr>\n",
       "      <th>70-79</th>\n",
       "      <td>249</td>\n",
       "    </tr>\n",
       "    <tr>\n",
       "      <th>80-89</th>\n",
       "      <td>43</td>\n",
       "    </tr>\n",
       "    <tr>\n",
       "      <th>90-100</th>\n",
       "      <td>5</td>\n",
       "    </tr>\n",
       "  </tbody>\n",
       "</table>\n",
       "</div>"
      ],
      "text/plain": [
       "           title\n",
       "score_bin       \n",
       "0-9            0\n",
       "10-19         33\n",
       "20-29         11\n",
       "30-39        679\n",
       "40-49       1612\n",
       "50-59       1426\n",
       "60-69        690\n",
       "70-79        249\n",
       "80-89         43\n",
       "90-100         5"
      ]
     },
     "execution_count": 68,
     "metadata": {},
     "output_type": "execute_result"
    }
   ],
   "source": [
    "amazon_prime_bins = pd.DataFrame(amazon_prime_data.groupby(['score_bin']).count()['title'])\n",
    "amazon_prime_bins"
   ]
  },
  {
   "cell_type": "code",
   "execution_count": 76,
   "id": "ddec8851",
   "metadata": {},
   "outputs": [
    {
     "data": {
      "image/png": "[encoded data removed]",
      "text/plain": [
       "<Figure size 640x480 with 1 Axes>"
      ]
     },
     "metadata": {},
     "output_type": "display_data"
    }
   ],
   "source": [
    "# Create a bar graph of the DataFrame.\n",
    "amazon_prime_bins.plot(kind = 'bar', xlabel = 'Score Bin', ylabel = 'Number of Movies', \n",
    "                   title = 'Amazon Prime Scores', legend = False)\n",
    "plt.xticks(rotation = 45)\n",
    "plt.show()"
   ]
  },
  {
   "cell_type": "code",
   "execution_count": 70,
   "id": "58667747",
   "metadata": {},
   "outputs": [
    {
     "data": {
      "text/html": [
       "<div>\n",
       "<style scoped>\n",
       "    .dataframe tbody tr th:only-of-type {\n",
       "        vertical-align: middle;\n",
       "    }\n",
       "\n",
       "    .dataframe tbody tr th {\n",
       "        vertical-align: top;\n",
       "    }\n",
       "\n",
       "    .dataframe thead th {\n",
       "        text-align: right;\n",
       "    }\n",
       "</style>\n",
       "<table border=\"1\" class=\"dataframe\">\n",
       "  <thead>\n",
       "    <tr style=\"text-align: right;\">\n",
       "      <th></th>\n",
       "      <th>title</th>\n",
       "    </tr>\n",
       "    <tr>\n",
       "      <th>score_bin</th>\n",
       "      <th></th>\n",
       "    </tr>\n",
       "  </thead>\n",
       "  <tbody>\n",
       "    <tr>\n",
       "      <th>0-9</th>\n",
       "      <td>1</td>\n",
       "    </tr>\n",
       "    <tr>\n",
       "      <th>10-19</th>\n",
       "      <td>21</td>\n",
       "    </tr>\n",
       "    <tr>\n",
       "      <th>20-29</th>\n",
       "      <td>0</td>\n",
       "    </tr>\n",
       "    <tr>\n",
       "      <th>30-39</th>\n",
       "      <td>96</td>\n",
       "    </tr>\n",
       "    <tr>\n",
       "      <th>40-49</th>\n",
       "      <td>443</td>\n",
       "    </tr>\n",
       "    <tr>\n",
       "      <th>50-59</th>\n",
       "      <td>556</td>\n",
       "    </tr>\n",
       "    <tr>\n",
       "      <th>60-69</th>\n",
       "      <td>484</td>\n",
       "    </tr>\n",
       "    <tr>\n",
       "      <th>70-79</th>\n",
       "      <td>292</td>\n",
       "    </tr>\n",
       "    <tr>\n",
       "      <th>80-89</th>\n",
       "      <td>113</td>\n",
       "    </tr>\n",
       "    <tr>\n",
       "      <th>90-100</th>\n",
       "      <td>3</td>\n",
       "    </tr>\n",
       "  </tbody>\n",
       "</table>\n",
       "</div>"
      ],
      "text/plain": [
       "           title\n",
       "score_bin       \n",
       "0-9            1\n",
       "10-19         21\n",
       "20-29          0\n",
       "30-39         96\n",
       "40-49        443\n",
       "50-59        556\n",
       "60-69        484\n",
       "70-79        292\n",
       "80-89        113\n",
       "90-100         3"
      ]
     },
     "execution_count": 70,
     "metadata": {},
     "output_type": "execute_result"
    }
   ],
   "source": [
    "disney_plus_bins = pd.DataFrame(disney_plus_data.groupby(['score_bin']).count()['title'])\n",
    "disney_plus_bins"
   ]
  },
  {
   "cell_type": "code",
   "execution_count": 75,
   "id": "50d6f16e",
   "metadata": {},
   "outputs": [
    {
     "data": {
      "image/png": "[encoded data removed]",
      "text/plain": [
       "<Figure size 640x480 with 1 Axes>"
      ]
     },
     "metadata": {},
     "output_type": "display_data"
    }
   ],
   "source": [
    "# Create a bar graph of the DataFrame.\n",
    "disney_plus_bins.plot(kind = 'bar', xlabel = 'Score Bin', ylabel = 'Number of Movies', \n",
    "                   title = 'Disney Plus Scores', legend = False, color = 'yellow')\n",
    "plt.xticks(rotation = 45)\n",
    "plt.show()"
   ]
  },
  {
   "cell_type": "code",
   "execution_count": 72,
   "id": "f09da7bc",
   "metadata": {},
   "outputs": [
    {
     "data": {
      "text/html": [
       "<div>\n",
       "<style scoped>\n",
       "    .dataframe tbody tr th:only-of-type {\n",
       "        vertical-align: middle;\n",
       "    }\n",
       "\n",
       "    .dataframe tbody tr th {\n",
       "        vertical-align: top;\n",
       "    }\n",
       "\n",
       "    .dataframe thead th {\n",
       "        text-align: right;\n",
       "    }\n",
       "</style>\n",
       "<table border=\"1\" class=\"dataframe\">\n",
       "  <thead>\n",
       "    <tr style=\"text-align: right;\">\n",
       "      <th></th>\n",
       "      <th>title</th>\n",
       "    </tr>\n",
       "    <tr>\n",
       "      <th>score_bin</th>\n",
       "      <th></th>\n",
       "    </tr>\n",
       "  </thead>\n",
       "  <tbody>\n",
       "    <tr>\n",
       "      <th>0-9</th>\n",
       "      <td>0</td>\n",
       "    </tr>\n",
       "    <tr>\n",
       "      <th>10-19</th>\n",
       "      <td>7</td>\n",
       "    </tr>\n",
       "    <tr>\n",
       "      <th>20-29</th>\n",
       "      <td>0</td>\n",
       "    </tr>\n",
       "    <tr>\n",
       "      <th>30-39</th>\n",
       "      <td>36</td>\n",
       "    </tr>\n",
       "    <tr>\n",
       "      <th>40-49</th>\n",
       "      <td>235</td>\n",
       "    </tr>\n",
       "    <tr>\n",
       "      <th>50-59</th>\n",
       "      <td>460</td>\n",
       "    </tr>\n",
       "    <tr>\n",
       "      <th>60-69</th>\n",
       "      <td>445</td>\n",
       "    </tr>\n",
       "    <tr>\n",
       "      <th>70-79</th>\n",
       "      <td>252</td>\n",
       "    </tr>\n",
       "    <tr>\n",
       "      <th>80-89</th>\n",
       "      <td>64</td>\n",
       "    </tr>\n",
       "    <tr>\n",
       "      <th>90-100</th>\n",
       "      <td>0</td>\n",
       "    </tr>\n",
       "  </tbody>\n",
       "</table>\n",
       "</div>"
      ],
      "text/plain": [
       "           title\n",
       "score_bin       \n",
       "0-9            0\n",
       "10-19          7\n",
       "20-29          0\n",
       "30-39         36\n",
       "40-49        235\n",
       "50-59        460\n",
       "60-69        445\n",
       "70-79        252\n",
       "80-89         64\n",
       "90-100         0"
      ]
     },
     "execution_count": 72,
     "metadata": {},
     "output_type": "execute_result"
    }
   ],
   "source": [
    "hulu_bins = pd.DataFrame(hulu_data.groupby(['score_bin']).count()['title'])\n",
    "hulu_bins"
   ]
  },
  {
   "cell_type": "code",
   "execution_count": 74,
   "id": "8693999c",
   "metadata": {},
   "outputs": [
    {
     "data": {
      "image/png": "[encoded data removed]",
      "text/plain": [
       "<Figure size 640x480 with 1 Axes>"
      ]
     },
     "metadata": {},
     "output_type": "display_data"
    }
   ],
   "source": [
    "# Create a bar graph of the DataFrame.\n",
    "hulu_bins.plot(kind = 'bar', xlabel = 'Score Bin', ylabel = 'Number of Movies', \n",
    "                   title = 'Netflix Scores', legend = False, color = 'lightgreen')\n",
    "plt.xticks(rotation = 45)\n",
    "plt.show()"
   ]
  },
  {
   "cell_type": "code",
   "execution_count": 78,
   "id": "02a5495d",
   "metadata": {},
   "outputs": [
    {
     "data": {
      "text/html": [
       "<div>\n",
       "<style scoped>\n",
       "    .dataframe tbody tr th:only-of-type {\n",
       "        vertical-align: middle;\n",
       "    }\n",
       "\n",
       "    .dataframe tbody tr th {\n",
       "        vertical-align: top;\n",
       "    }\n",
       "\n",
       "    .dataframe thead th {\n",
       "        text-align: right;\n",
       "    }\n",
       "</style>\n",
       "<table border=\"1\" class=\"dataframe\">\n",
       "  <thead>\n",
       "    <tr style=\"text-align: right;\">\n",
       "      <th></th>\n",
       "      <th>title</th>\n",
       "    </tr>\n",
       "    <tr>\n",
       "      <th>release_decade</th>\n",
       "      <th></th>\n",
       "    </tr>\n",
       "  </thead>\n",
       "  <tbody>\n",
       "    <tr>\n",
       "      <th>1920s</th>\n",
       "      <td>0</td>\n",
       "    </tr>\n",
       "    <tr>\n",
       "      <th>1930s</th>\n",
       "      <td>0</td>\n",
       "    </tr>\n",
       "    <tr>\n",
       "      <th>1940s</th>\n",
       "      <td>0</td>\n",
       "    </tr>\n",
       "    <tr>\n",
       "      <th>1950s</th>\n",
       "      <td>14</td>\n",
       "    </tr>\n",
       "    <tr>\n",
       "      <th>1960s</th>\n",
       "      <td>19</td>\n",
       "    </tr>\n",
       "    <tr>\n",
       "      <th>1970s</th>\n",
       "      <td>46</td>\n",
       "    </tr>\n",
       "    <tr>\n",
       "      <th>1980s</th>\n",
       "      <td>129</td>\n",
       "    </tr>\n",
       "    <tr>\n",
       "      <th>1990s</th>\n",
       "      <td>188</td>\n",
       "    </tr>\n",
       "    <tr>\n",
       "      <th>2000s</th>\n",
       "      <td>634</td>\n",
       "    </tr>\n",
       "    <tr>\n",
       "      <th>2010s</th>\n",
       "      <td>4850</td>\n",
       "    </tr>\n",
       "    <tr>\n",
       "      <th>2020s</th>\n",
       "      <td>1238</td>\n",
       "    </tr>\n",
       "  </tbody>\n",
       "</table>\n",
       "</div>"
      ],
      "text/plain": [
       "                title\n",
       "release_decade       \n",
       "1920s               0\n",
       "1930s               0\n",
       "1940s               0\n",
       "1950s              14\n",
       "1960s              19\n",
       "1970s              46\n",
       "1980s             129\n",
       "1990s             188\n",
       "2000s             634\n",
       "2010s            4850\n",
       "2020s            1238"
      ]
     },
     "execution_count": 78,
     "metadata": {},
     "output_type": "execute_result"
    }
   ],
   "source": [
    "netflix_decades = pd.DataFrame(netflix_data.groupby(['release_decade']).count()['title'])\n",
    "netflix_decades"
   ]
  },
  {
   "cell_type": "code",
   "execution_count": 79,
   "id": "1c0ef766",
   "metadata": {},
   "outputs": [
    {
     "data": {
      "image/png": "[encoded data removed]",
      "text/plain": [
       "<Figure size 640x480 with 1 Axes>"
      ]
     },
     "metadata": {},
     "output_type": "display_data"
    }
   ],
   "source": [
    "# Create a bar graph of the DataFrame.\n",
    "netflix_decades.plot(kind = 'bar', xlabel = 'Decade', ylabel = 'Number of Movies', \n",
    "                   title = 'Decade of Movie Release on Netflix', legend = False, color = 'red')\n",
    "plt.xticks(rotation = 45)\n",
    "plt.show()"
   ]
  },
  {
   "cell_type": "code",
   "execution_count": 80,
   "id": "6202e647",
   "metadata": {},
   "outputs": [
    {
     "data": {
      "text/html": [
       "<div>\n",
       "<style scoped>\n",
       "    .dataframe tbody tr th:only-of-type {\n",
       "        vertical-align: middle;\n",
       "    }\n",
       "\n",
       "    .dataframe tbody tr th {\n",
       "        vertical-align: top;\n",
       "    }\n",
       "\n",
       "    .dataframe thead th {\n",
       "        text-align: right;\n",
       "    }\n",
       "</style>\n",
       "<table border=\"1\" class=\"dataframe\">\n",
       "  <thead>\n",
       "    <tr style=\"text-align: right;\">\n",
       "      <th></th>\n",
       "      <th>title</th>\n",
       "    </tr>\n",
       "    <tr>\n",
       "      <th>release_decade</th>\n",
       "      <th></th>\n",
       "    </tr>\n",
       "  </thead>\n",
       "  <tbody>\n",
       "    <tr>\n",
       "      <th>1920s</th>\n",
       "      <td>10</td>\n",
       "    </tr>\n",
       "    <tr>\n",
       "      <th>1930s</th>\n",
       "      <td>116</td>\n",
       "    </tr>\n",
       "    <tr>\n",
       "      <th>1940s</th>\n",
       "      <td>126</td>\n",
       "    </tr>\n",
       "    <tr>\n",
       "      <th>1950s</th>\n",
       "      <td>112</td>\n",
       "    </tr>\n",
       "    <tr>\n",
       "      <th>1960s</th>\n",
       "      <td>45</td>\n",
       "    </tr>\n",
       "    <tr>\n",
       "      <th>1970s</th>\n",
       "      <td>108</td>\n",
       "    </tr>\n",
       "    <tr>\n",
       "      <th>1980s</th>\n",
       "      <td>171</td>\n",
       "    </tr>\n",
       "    <tr>\n",
       "      <th>1990s</th>\n",
       "      <td>306</td>\n",
       "    </tr>\n",
       "    <tr>\n",
       "      <th>2000s</th>\n",
       "      <td>655</td>\n",
       "    </tr>\n",
       "    <tr>\n",
       "      <th>2010s</th>\n",
       "      <td>2562</td>\n",
       "    </tr>\n",
       "    <tr>\n",
       "      <th>2020s</th>\n",
       "      <td>537</td>\n",
       "    </tr>\n",
       "  </tbody>\n",
       "</table>\n",
       "</div>"
      ],
      "text/plain": [
       "                title\n",
       "release_decade       \n",
       "1920s              10\n",
       "1930s             116\n",
       "1940s             126\n",
       "1950s             112\n",
       "1960s              45\n",
       "1970s             108\n",
       "1980s             171\n",
       "1990s             306\n",
       "2000s             655\n",
       "2010s            2562\n",
       "2020s             537"
      ]
     },
     "execution_count": 80,
     "metadata": {},
     "output_type": "execute_result"
    }
   ],
   "source": [
    "amazon_prime_decades = pd.DataFrame(amazon_prime_data.groupby(['release_decade']).count()['title'])\n",
    "amazon_prime_decades"
   ]
  },
  {
   "cell_type": "code",
   "execution_count": 81,
   "id": "3595e7eb",
   "metadata": {},
   "outputs": [
    {
     "data": {
      "image/png": "[encoded data removed]",
      "text/plain": [
       "<Figure size 640x480 with 1 Axes>"
      ]
     },
     "metadata": {},
     "output_type": "display_data"
    }
   ],
   "source": [
    "# Create a bar graph of the DataFrame.\n",
    "amazon_prime_decades.plot(kind = 'bar', xlabel = 'Decade', ylabel = 'Number of Movies', \n",
    "                   title = 'Decade of Movie Release on Amazon Prime', legend = False, color = 'blue')\n",
    "plt.xticks(rotation = 45)\n",
    "plt.show()"
   ]
  },
  {
   "cell_type": "code",
   "execution_count": 82,
   "id": "e9ff2503",
   "metadata": {},
   "outputs": [
    {
     "data": {
      "text/html": [
       "<div>\n",
       "<style scoped>\n",
       "    .dataframe tbody tr th:only-of-type {\n",
       "        vertical-align: middle;\n",
       "    }\n",
       "\n",
       "    .dataframe tbody tr th {\n",
       "        vertical-align: top;\n",
       "    }\n",
       "\n",
       "    .dataframe thead th {\n",
       "        text-align: right;\n",
       "    }\n",
       "</style>\n",
       "<table border=\"1\" class=\"dataframe\">\n",
       "  <thead>\n",
       "    <tr style=\"text-align: right;\">\n",
       "      <th></th>\n",
       "      <th>title</th>\n",
       "    </tr>\n",
       "    <tr>\n",
       "      <th>release_decade</th>\n",
       "      <th></th>\n",
       "    </tr>\n",
       "  </thead>\n",
       "  <tbody>\n",
       "    <tr>\n",
       "      <th>1920s</th>\n",
       "      <td>3</td>\n",
       "    </tr>\n",
       "    <tr>\n",
       "      <th>1930s</th>\n",
       "      <td>93</td>\n",
       "    </tr>\n",
       "    <tr>\n",
       "      <th>1940s</th>\n",
       "      <td>110</td>\n",
       "    </tr>\n",
       "    <tr>\n",
       "      <th>1950s</th>\n",
       "      <td>122</td>\n",
       "    </tr>\n",
       "    <tr>\n",
       "      <th>1960s</th>\n",
       "      <td>66</td>\n",
       "    </tr>\n",
       "    <tr>\n",
       "      <th>1970s</th>\n",
       "      <td>88</td>\n",
       "    </tr>\n",
       "    <tr>\n",
       "      <th>1980s</th>\n",
       "      <td>90</td>\n",
       "    </tr>\n",
       "    <tr>\n",
       "      <th>1990s</th>\n",
       "      <td>247</td>\n",
       "    </tr>\n",
       "    <tr>\n",
       "      <th>2000s</th>\n",
       "      <td>516</td>\n",
       "    </tr>\n",
       "    <tr>\n",
       "      <th>2010s</th>\n",
       "      <td>490</td>\n",
       "    </tr>\n",
       "    <tr>\n",
       "      <th>2020s</th>\n",
       "      <td>184</td>\n",
       "    </tr>\n",
       "  </tbody>\n",
       "</table>\n",
       "</div>"
      ],
      "text/plain": [
       "                title\n",
       "release_decade       \n",
       "1920s               3\n",
       "1930s              93\n",
       "1940s             110\n",
       "1950s             122\n",
       "1960s              66\n",
       "1970s              88\n",
       "1980s              90\n",
       "1990s             247\n",
       "2000s             516\n",
       "2010s             490\n",
       "2020s             184"
      ]
     },
     "execution_count": 82,
     "metadata": {},
     "output_type": "execute_result"
    }
   ],
   "source": [
    "disney_plus_decades = pd.DataFrame(disney_plus_data.groupby(['release_decade']).count()['title'])\n",
    "disney_plus_decades"
   ]
  },
  {
   "cell_type": "code",
   "execution_count": 84,
   "id": "9a403045",
   "metadata": {
    "scrolled": true
   },
   "outputs": [
    {
     "data": {
      "image/png": "[encoded data removed]",
      "text/plain": [
       "<Figure size 640x480 with 1 Axes>"
      ]
     },
     "metadata": {},
     "output_type": "display_data"
    }
   ],
   "source": [
    "# Create a bar graph of the DataFrame.\n",
    "disney_plus_decades.plot(kind = 'bar', xlabel = 'Decade', ylabel = 'Number of Movies', \n",
    "                   title = 'Decade of Movie Release on Disney Plus', legend = False, color = 'yellow')\n",
    "plt.xticks(rotation = 45)\n",
    "plt.show()"
   ]
  },
  {
   "cell_type": "code",
   "execution_count": 85,
   "id": "e08014cf",
   "metadata": {},
   "outputs": [
    {
     "data": {
      "text/html": [
       "<div>\n",
       "<style scoped>\n",
       "    .dataframe tbody tr th:only-of-type {\n",
       "        vertical-align: middle;\n",
       "    }\n",
       "\n",
       "    .dataframe tbody tr th {\n",
       "        vertical-align: top;\n",
       "    }\n",
       "\n",
       "    .dataframe thead th {\n",
       "        text-align: right;\n",
       "    }\n",
       "</style>\n",
       "<table border=\"1\" class=\"dataframe\">\n",
       "  <thead>\n",
       "    <tr style=\"text-align: right;\">\n",
       "      <th></th>\n",
       "      <th>title</th>\n",
       "    </tr>\n",
       "    <tr>\n",
       "      <th>release_decade</th>\n",
       "      <th></th>\n",
       "    </tr>\n",
       "  </thead>\n",
       "  <tbody>\n",
       "    <tr>\n",
       "      <th>1920s</th>\n",
       "      <td>1</td>\n",
       "    </tr>\n",
       "    <tr>\n",
       "      <th>1930s</th>\n",
       "      <td>0</td>\n",
       "    </tr>\n",
       "    <tr>\n",
       "      <th>1940s</th>\n",
       "      <td>0</td>\n",
       "    </tr>\n",
       "    <tr>\n",
       "      <th>1950s</th>\n",
       "      <td>19</td>\n",
       "    </tr>\n",
       "    <tr>\n",
       "      <th>1960s</th>\n",
       "      <td>10</td>\n",
       "    </tr>\n",
       "    <tr>\n",
       "      <th>1970s</th>\n",
       "      <td>18</td>\n",
       "    </tr>\n",
       "    <tr>\n",
       "      <th>1980s</th>\n",
       "      <td>25</td>\n",
       "    </tr>\n",
       "    <tr>\n",
       "      <th>1990s</th>\n",
       "      <td>51</td>\n",
       "    </tr>\n",
       "    <tr>\n",
       "      <th>2000s</th>\n",
       "      <td>142</td>\n",
       "    </tr>\n",
       "    <tr>\n",
       "      <th>2010s</th>\n",
       "      <td>1007</td>\n",
       "    </tr>\n",
       "    <tr>\n",
       "      <th>2020s</th>\n",
       "      <td>226</td>\n",
       "    </tr>\n",
       "  </tbody>\n",
       "</table>\n",
       "</div>"
      ],
      "text/plain": [
       "                title\n",
       "release_decade       \n",
       "1920s               1\n",
       "1930s               0\n",
       "1940s               0\n",
       "1950s              19\n",
       "1960s              10\n",
       "1970s              18\n",
       "1980s              25\n",
       "1990s              51\n",
       "2000s             142\n",
       "2010s            1007\n",
       "2020s             226"
      ]
     },
     "execution_count": 85,
     "metadata": {},
     "output_type": "execute_result"
    }
   ],
   "source": [
    "hulu_decades = pd.DataFrame(hulu_data.groupby(['release_decade']).count()['title'])\n",
    "hulu_decades"
   ]
  },
  {
   "cell_type": "code",
   "execution_count": 86,
   "id": "6612b80d",
   "metadata": {},
   "outputs": [
    {
     "data": {
      "image/png": "[encoded data removed]",
      "text/plain": [
       "<Figure size 640x480 with 1 Axes>"
      ]
     },
     "metadata": {},
     "output_type": "display_data"
    }
   ],
   "source": [
    "# Create a bar graph of the DataFrame.\n",
    "hulu_decades.plot(kind = 'bar', xlabel = 'Decade', ylabel = 'Number of Movies', \n",
    "                   title = 'Decade of Movie Release on Hulu', legend = False, color = 'lightgreen')\n",
    "plt.xticks(rotation = 45)\n",
    "plt.show()"
   ]
  },
  {
   "cell_type": "code",
   "execution_count": null,
   "id": "d06dff94",
   "metadata": {},
   "outputs": [],
   "source": []
  }
 ],
 "metadata": {
  "kernelspec": {
   "display_name": "Python 3 (ipykernel)",
   "language": "python",
   "name": "python3"
  },
  "language_info": {
   "codemirror_mode": {
    "name": "ipython",
    "version": 3
   },
   "file_extension": ".py",
   "mimetype": "text/x-python",
   "name": "python",
   "nbconvert_exporter": "python",
   "pygments_lexer": "ipython3",
   "version": "3.9.13"
  }
 },
 "nbformat": 4,
 "nbformat_minor": 5
}

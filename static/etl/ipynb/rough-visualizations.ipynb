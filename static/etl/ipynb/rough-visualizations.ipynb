{
 "cells": [
  {
   "cell_type": "code",
   "execution_count": 1,
   "id": "840079d2",
   "metadata": {
    "scrolled": true
   },
   "outputs": [
    {
     "name": "stderr",
     "output_type": "stream",
     "text": [
      "/opt/anaconda3/envs/PythonData/lib/python3.7/site-packages/ipykernel_launcher.py:5: DeprecationWarning: `set_matplotlib_formats` is deprecated since IPython 7.23, directly use `matplotlib_inline.backend_inline.set_matplotlib_formats()`\n",
      "  \"\"\"\n"
     ]
    },
    {
     "data": {
      "text/html": [
       "<style>.container { width:100% !important; }</style>"
      ],
      "text/plain": [
       "<IPython.core.display.HTML object>"
      ]
     },
     "metadata": {},
     "output_type": "display_data"
    },
    {
     "ename": "FileNotFoundError",
     "evalue": "[Errno 2] No such file or directory: '../csv/complete_data/complete_vertical.csv'",
     "output_type": "error",
     "traceback": [
      "\u001b[0;31m---------------------------------------------------------------------------\u001b[0m",
      "\u001b[0;31mFileNotFoundError\u001b[0m                         Traceback (most recent call last)",
      "\u001b[0;32m/var/folders/k5/qs00jgw17kx162f28h638h240000gn/T/ipykernel_4947/740587960.py\u001b[0m in \u001b[0;36m<module>\u001b[0;34m\u001b[0m\n\u001b[1;32m     12\u001b[0m \u001b[0;31m# Read data\u001b[0m\u001b[0;34m\u001b[0m\u001b[0;34m\u001b[0m\u001b[0;34m\u001b[0m\u001b[0m\n\u001b[1;32m     13\u001b[0m \u001b[0mcomplete_vertical_csv\u001b[0m \u001b[0;34m=\u001b[0m \u001b[0;34m'../csv/complete_data/complete_vertical.csv'\u001b[0m\u001b[0;34m\u001b[0m\u001b[0;34m\u001b[0m\u001b[0m\n\u001b[0;32m---> 14\u001b[0;31m \u001b[0mcomplete_vertical\u001b[0m \u001b[0;34m=\u001b[0m \u001b[0mpd\u001b[0m\u001b[0;34m.\u001b[0m\u001b[0mread_csv\u001b[0m\u001b[0;34m(\u001b[0m\u001b[0mcomplete_vertical_csv\u001b[0m\u001b[0;34m)\u001b[0m\u001b[0;34m\u001b[0m\u001b[0;34m\u001b[0m\u001b[0m\n\u001b[0m",
      "\u001b[0;32m/opt/anaconda3/envs/PythonData/lib/python3.7/site-packages/pandas/util/_decorators.py\u001b[0m in \u001b[0;36mwrapper\u001b[0;34m(*args, **kwargs)\u001b[0m\n\u001b[1;32m    309\u001b[0m                     \u001b[0mstacklevel\u001b[0m\u001b[0;34m=\u001b[0m\u001b[0mstacklevel\u001b[0m\u001b[0;34m,\u001b[0m\u001b[0;34m\u001b[0m\u001b[0;34m\u001b[0m\u001b[0m\n\u001b[1;32m    310\u001b[0m                 )\n\u001b[0;32m--> 311\u001b[0;31m             \u001b[0;32mreturn\u001b[0m \u001b[0mfunc\u001b[0m\u001b[0;34m(\u001b[0m\u001b[0;34m*\u001b[0m\u001b[0margs\u001b[0m\u001b[0;34m,\u001b[0m \u001b[0;34m**\u001b[0m\u001b[0mkwargs\u001b[0m\u001b[0;34m)\u001b[0m\u001b[0;34m\u001b[0m\u001b[0;34m\u001b[0m\u001b[0m\n\u001b[0m\u001b[1;32m    312\u001b[0m \u001b[0;34m\u001b[0m\u001b[0m\n\u001b[1;32m    313\u001b[0m         \u001b[0;32mreturn\u001b[0m \u001b[0mwrapper\u001b[0m\u001b[0;34m\u001b[0m\u001b[0;34m\u001b[0m\u001b[0m\n",
      "\u001b[0;32m/opt/anaconda3/envs/PythonData/lib/python3.7/site-packages/pandas/io/parsers/readers.py\u001b[0m in \u001b[0;36mread_csv\u001b[0;34m(filepath_or_buffer, sep, delimiter, header, names, index_col, usecols, squeeze, prefix, mangle_dupe_cols, dtype, engine, converters, true_values, false_values, skipinitialspace, skiprows, skipfooter, nrows, na_values, keep_default_na, na_filter, verbose, skip_blank_lines, parse_dates, infer_datetime_format, keep_date_col, date_parser, dayfirst, cache_dates, iterator, chunksize, compression, thousands, decimal, lineterminator, quotechar, quoting, doublequote, escapechar, comment, encoding, encoding_errors, dialect, error_bad_lines, warn_bad_lines, on_bad_lines, delim_whitespace, low_memory, memory_map, float_precision, storage_options)\u001b[0m\n\u001b[1;32m    584\u001b[0m     \u001b[0mkwds\u001b[0m\u001b[0;34m.\u001b[0m\u001b[0mupdate\u001b[0m\u001b[0;34m(\u001b[0m\u001b[0mkwds_defaults\u001b[0m\u001b[0;34m)\u001b[0m\u001b[0;34m\u001b[0m\u001b[0;34m\u001b[0m\u001b[0m\n\u001b[1;32m    585\u001b[0m \u001b[0;34m\u001b[0m\u001b[0m\n\u001b[0;32m--> 586\u001b[0;31m     \u001b[0;32mreturn\u001b[0m \u001b[0m_read\u001b[0m\u001b[0;34m(\u001b[0m\u001b[0mfilepath_or_buffer\u001b[0m\u001b[0;34m,\u001b[0m \u001b[0mkwds\u001b[0m\u001b[0;34m)\u001b[0m\u001b[0;34m\u001b[0m\u001b[0;34m\u001b[0m\u001b[0m\n\u001b[0m\u001b[1;32m    587\u001b[0m \u001b[0;34m\u001b[0m\u001b[0m\n\u001b[1;32m    588\u001b[0m \u001b[0;34m\u001b[0m\u001b[0m\n",
      "\u001b[0;32m/opt/anaconda3/envs/PythonData/lib/python3.7/site-packages/pandas/io/parsers/readers.py\u001b[0m in \u001b[0;36m_read\u001b[0;34m(filepath_or_buffer, kwds)\u001b[0m\n\u001b[1;32m    480\u001b[0m \u001b[0;34m\u001b[0m\u001b[0m\n\u001b[1;32m    481\u001b[0m     \u001b[0;31m# Create the parser.\u001b[0m\u001b[0;34m\u001b[0m\u001b[0;34m\u001b[0m\u001b[0;34m\u001b[0m\u001b[0m\n\u001b[0;32m--> 482\u001b[0;31m     \u001b[0mparser\u001b[0m \u001b[0;34m=\u001b[0m \u001b[0mTextFileReader\u001b[0m\u001b[0;34m(\u001b[0m\u001b[0mfilepath_or_buffer\u001b[0m\u001b[0;34m,\u001b[0m \u001b[0;34m**\u001b[0m\u001b[0mkwds\u001b[0m\u001b[0;34m)\u001b[0m\u001b[0;34m\u001b[0m\u001b[0;34m\u001b[0m\u001b[0m\n\u001b[0m\u001b[1;32m    483\u001b[0m \u001b[0;34m\u001b[0m\u001b[0m\n\u001b[1;32m    484\u001b[0m     \u001b[0;32mif\u001b[0m \u001b[0mchunksize\u001b[0m \u001b[0;32mor\u001b[0m \u001b[0miterator\u001b[0m\u001b[0;34m:\u001b[0m\u001b[0;34m\u001b[0m\u001b[0;34m\u001b[0m\u001b[0m\n",
      "\u001b[0;32m/opt/anaconda3/envs/PythonData/lib/python3.7/site-packages/pandas/io/parsers/readers.py\u001b[0m in \u001b[0;36m__init__\u001b[0;34m(self, f, engine, **kwds)\u001b[0m\n\u001b[1;32m    809\u001b[0m             \u001b[0mself\u001b[0m\u001b[0;34m.\u001b[0m\u001b[0moptions\u001b[0m\u001b[0;34m[\u001b[0m\u001b[0;34m\"has_index_names\"\u001b[0m\u001b[0;34m]\u001b[0m \u001b[0;34m=\u001b[0m \u001b[0mkwds\u001b[0m\u001b[0;34m[\u001b[0m\u001b[0;34m\"has_index_names\"\u001b[0m\u001b[0;34m]\u001b[0m\u001b[0;34m\u001b[0m\u001b[0;34m\u001b[0m\u001b[0m\n\u001b[1;32m    810\u001b[0m \u001b[0;34m\u001b[0m\u001b[0m\n\u001b[0;32m--> 811\u001b[0;31m         \u001b[0mself\u001b[0m\u001b[0;34m.\u001b[0m\u001b[0m_engine\u001b[0m \u001b[0;34m=\u001b[0m \u001b[0mself\u001b[0m\u001b[0;34m.\u001b[0m\u001b[0m_make_engine\u001b[0m\u001b[0;34m(\u001b[0m\u001b[0mself\u001b[0m\u001b[0;34m.\u001b[0m\u001b[0mengine\u001b[0m\u001b[0;34m)\u001b[0m\u001b[0;34m\u001b[0m\u001b[0;34m\u001b[0m\u001b[0m\n\u001b[0m\u001b[1;32m    812\u001b[0m \u001b[0;34m\u001b[0m\u001b[0m\n\u001b[1;32m    813\u001b[0m     \u001b[0;32mdef\u001b[0m \u001b[0mclose\u001b[0m\u001b[0;34m(\u001b[0m\u001b[0mself\u001b[0m\u001b[0;34m)\u001b[0m\u001b[0;34m:\u001b[0m\u001b[0;34m\u001b[0m\u001b[0;34m\u001b[0m\u001b[0m\n",
      "\u001b[0;32m/opt/anaconda3/envs/PythonData/lib/python3.7/site-packages/pandas/io/parsers/readers.py\u001b[0m in \u001b[0;36m_make_engine\u001b[0;34m(self, engine)\u001b[0m\n\u001b[1;32m   1038\u001b[0m             )\n\u001b[1;32m   1039\u001b[0m         \u001b[0;31m# error: Too many arguments for \"ParserBase\"\u001b[0m\u001b[0;34m\u001b[0m\u001b[0;34m\u001b[0m\u001b[0;34m\u001b[0m\u001b[0m\n\u001b[0;32m-> 1040\u001b[0;31m         \u001b[0;32mreturn\u001b[0m \u001b[0mmapping\u001b[0m\u001b[0;34m[\u001b[0m\u001b[0mengine\u001b[0m\u001b[0;34m]\u001b[0m\u001b[0;34m(\u001b[0m\u001b[0mself\u001b[0m\u001b[0;34m.\u001b[0m\u001b[0mf\u001b[0m\u001b[0;34m,\u001b[0m \u001b[0;34m**\u001b[0m\u001b[0mself\u001b[0m\u001b[0;34m.\u001b[0m\u001b[0moptions\u001b[0m\u001b[0;34m)\u001b[0m  \u001b[0;31m# type: ignore[call-arg]\u001b[0m\u001b[0;34m\u001b[0m\u001b[0;34m\u001b[0m\u001b[0m\n\u001b[0m\u001b[1;32m   1041\u001b[0m \u001b[0;34m\u001b[0m\u001b[0m\n\u001b[1;32m   1042\u001b[0m     \u001b[0;32mdef\u001b[0m \u001b[0m_failover_to_python\u001b[0m\u001b[0;34m(\u001b[0m\u001b[0mself\u001b[0m\u001b[0;34m)\u001b[0m\u001b[0;34m:\u001b[0m\u001b[0;34m\u001b[0m\u001b[0;34m\u001b[0m\u001b[0m\n",
      "\u001b[0;32m/opt/anaconda3/envs/PythonData/lib/python3.7/site-packages/pandas/io/parsers/c_parser_wrapper.py\u001b[0m in \u001b[0;36m__init__\u001b[0;34m(self, src, **kwds)\u001b[0m\n\u001b[1;32m     49\u001b[0m \u001b[0;34m\u001b[0m\u001b[0m\n\u001b[1;32m     50\u001b[0m         \u001b[0;31m# open handles\u001b[0m\u001b[0;34m\u001b[0m\u001b[0;34m\u001b[0m\u001b[0;34m\u001b[0m\u001b[0m\n\u001b[0;32m---> 51\u001b[0;31m         \u001b[0mself\u001b[0m\u001b[0;34m.\u001b[0m\u001b[0m_open_handles\u001b[0m\u001b[0;34m(\u001b[0m\u001b[0msrc\u001b[0m\u001b[0;34m,\u001b[0m \u001b[0mkwds\u001b[0m\u001b[0;34m)\u001b[0m\u001b[0;34m\u001b[0m\u001b[0;34m\u001b[0m\u001b[0m\n\u001b[0m\u001b[1;32m     52\u001b[0m         \u001b[0;32massert\u001b[0m \u001b[0mself\u001b[0m\u001b[0;34m.\u001b[0m\u001b[0mhandles\u001b[0m \u001b[0;32mis\u001b[0m \u001b[0;32mnot\u001b[0m \u001b[0;32mNone\u001b[0m\u001b[0;34m\u001b[0m\u001b[0;34m\u001b[0m\u001b[0m\n\u001b[1;32m     53\u001b[0m \u001b[0;34m\u001b[0m\u001b[0m\n",
      "\u001b[0;32m/opt/anaconda3/envs/PythonData/lib/python3.7/site-packages/pandas/io/parsers/base_parser.py\u001b[0m in \u001b[0;36m_open_handles\u001b[0;34m(self, src, kwds)\u001b[0m\n\u001b[1;32m    227\u001b[0m             \u001b[0mmemory_map\u001b[0m\u001b[0;34m=\u001b[0m\u001b[0mkwds\u001b[0m\u001b[0;34m.\u001b[0m\u001b[0mget\u001b[0m\u001b[0;34m(\u001b[0m\u001b[0;34m\"memory_map\"\u001b[0m\u001b[0;34m,\u001b[0m \u001b[0;32mFalse\u001b[0m\u001b[0;34m)\u001b[0m\u001b[0;34m,\u001b[0m\u001b[0;34m\u001b[0m\u001b[0;34m\u001b[0m\u001b[0m\n\u001b[1;32m    228\u001b[0m             \u001b[0mstorage_options\u001b[0m\u001b[0;34m=\u001b[0m\u001b[0mkwds\u001b[0m\u001b[0;34m.\u001b[0m\u001b[0mget\u001b[0m\u001b[0;34m(\u001b[0m\u001b[0;34m\"storage_options\"\u001b[0m\u001b[0;34m,\u001b[0m \u001b[0;32mNone\u001b[0m\u001b[0;34m)\u001b[0m\u001b[0;34m,\u001b[0m\u001b[0;34m\u001b[0m\u001b[0;34m\u001b[0m\u001b[0m\n\u001b[0;32m--> 229\u001b[0;31m             \u001b[0merrors\u001b[0m\u001b[0;34m=\u001b[0m\u001b[0mkwds\u001b[0m\u001b[0;34m.\u001b[0m\u001b[0mget\u001b[0m\u001b[0;34m(\u001b[0m\u001b[0;34m\"encoding_errors\"\u001b[0m\u001b[0;34m,\u001b[0m \u001b[0;34m\"strict\"\u001b[0m\u001b[0;34m)\u001b[0m\u001b[0;34m,\u001b[0m\u001b[0;34m\u001b[0m\u001b[0;34m\u001b[0m\u001b[0m\n\u001b[0m\u001b[1;32m    230\u001b[0m         )\n\u001b[1;32m    231\u001b[0m \u001b[0;34m\u001b[0m\u001b[0m\n",
      "\u001b[0;32m/opt/anaconda3/envs/PythonData/lib/python3.7/site-packages/pandas/io/common.py\u001b[0m in \u001b[0;36mget_handle\u001b[0;34m(path_or_buf, mode, encoding, compression, memory_map, is_text, errors, storage_options)\u001b[0m\n\u001b[1;32m    705\u001b[0m                 \u001b[0mencoding\u001b[0m\u001b[0;34m=\u001b[0m\u001b[0mioargs\u001b[0m\u001b[0;34m.\u001b[0m\u001b[0mencoding\u001b[0m\u001b[0;34m,\u001b[0m\u001b[0;34m\u001b[0m\u001b[0;34m\u001b[0m\u001b[0m\n\u001b[1;32m    706\u001b[0m                 \u001b[0merrors\u001b[0m\u001b[0;34m=\u001b[0m\u001b[0merrors\u001b[0m\u001b[0;34m,\u001b[0m\u001b[0;34m\u001b[0m\u001b[0;34m\u001b[0m\u001b[0m\n\u001b[0;32m--> 707\u001b[0;31m                 \u001b[0mnewline\u001b[0m\u001b[0;34m=\u001b[0m\u001b[0;34m\"\"\u001b[0m\u001b[0;34m,\u001b[0m\u001b[0;34m\u001b[0m\u001b[0;34m\u001b[0m\u001b[0m\n\u001b[0m\u001b[1;32m    708\u001b[0m             )\n\u001b[1;32m    709\u001b[0m         \u001b[0;32melse\u001b[0m\u001b[0;34m:\u001b[0m\u001b[0;34m\u001b[0m\u001b[0;34m\u001b[0m\u001b[0m\n",
      "\u001b[0;31mFileNotFoundError\u001b[0m: [Errno 2] No such file or directory: '../csv/complete_data/complete_vertical.csv'"
     ]
    }
   ],
   "source": [
    "# Create dependencies and settings\n",
    "import pandas as pd\n",
    "%matplotlib inline\n",
    "from IPython.display import set_matplotlib_formats\n",
    "set_matplotlib_formats('pdf', 'svg')\n",
    "import matplotlib.pyplot as plt\n",
    "from matplotlib.ticker import MaxNLocator\n",
    "import numpy as np\n",
    "from IPython.display import display, HTML\n",
    "display(HTML(\"<style>.container { width:100% !important; }</style>\"))\n",
    "\n",
    "# Read data\n",
    "complete_vertical_csv = '../csv/complete_data/complete_vertical.csv'\n",
    "complete_vertical = pd.read_csv(complete_vertical_csv)"
   ]
  },
  {
   "cell_type": "markdown",
   "id": "706b4ae3",
   "metadata": {},
   "source": [
    "# Genre Analysis"
   ]
  },
  {
   "cell_type": "code",
   "execution_count": null,
   "id": "c0692eae",
   "metadata": {},
   "outputs": [],
   "source": [
    "# Clone and rename genre column and verify\n",
    "complete_vertical.rename(columns={'listed_in': 'genre_level_1'}, inplace=True)\n",
    "complete_vertical.insert(11, 'genre_level_2', complete_vertical['genre_level_1'])\n",
    "complete_vertical.columns "
   ]
  },
  {
   "cell_type": "code",
   "execution_count": null,
   "id": "dc44bdc4",
   "metadata": {
    "scrolled": true
   },
   "outputs": [],
   "source": [
    "# Return a list of genres \n",
    "complete_vertical['genre_level_1'].unique()"
   ]
  },
  {
   "cell_type": "code",
   "execution_count": null,
   "id": "0ae7dff6",
   "metadata": {
    "scrolled": false
   },
   "outputs": [],
   "source": [
    "# Coerce unspecified genres to NaN, drop, then verify\n",
    "complete_vertical['genre_level_1'].replace('', np.nan, inplace=True)\n",
    "number_na = complete_vertical[pd.isna(complete_vertical['genre_level_1'])].groupby('platform').count().iloc[0,0]\n",
    "vertical_no_na = complete_vertical[complete_vertical['genre_level_1'].notna()]\n",
    "if not (len(complete_vertical['ID']) - (len(vertical_no_na['ID']) + number_na)):\n",
    "    print('true')"
   ]
  },
  {
   "cell_type": "code",
   "execution_count": null,
   "id": "154e9d2b",
   "metadata": {},
   "outputs": [],
   "source": [
    "# Select films with ambiguous level 1 'movies' genre, drop, then verify\n",
    "number_movies_genre = len(vertical_no_na[vertical_no_na['genre_level_1'] == 'Movies']['ID'])\n",
    "vertical_clean = vertical_no_na[vertical_no_na['genre_level_1'] != 'Movies']\n",
    "if not (len(vertical_no_na['ID']) - (len(vertical_clean['ID']) + number_movies_genre)):\n",
    "    print('true')"
   ]
  },
  {
   "cell_type": "code",
   "execution_count": null,
   "id": "eedb20fa",
   "metadata": {
    "scrolled": false
   },
   "outputs": [],
   "source": [
    "# Create level 1 genres dictionary and verify you haven't left anything out \n",
    "genre_level_1_dict = {\n",
    "    'Action': 'Action & Adventure',\n",
    "    'Action & Adventure': 'Action & Adventure',\n",
    "    'Adventure': 'Action & Adventure',\n",
    "    'Adult Animation': 'Reality & Variety',\n",
    "    'Animation': 'Animation',\n",
    "    'Animals & Nature': 'Documentary',\n",
    "    'Anime': 'Animation',\n",
    "    'Anthology': 'Drama',\n",
    "    'Arthouse': 'Drama',\n",
    "    'Arts': 'Documentary',\n",
    "    'Biographical': 'Documentary',\n",
    "    'Black Stories': 'Documentary',\n",
    "    'Buddy': 'Comedy',\n",
    "    'Cartoons': 'Animation',\n",
    "    'Children & Family Movies': 'Family',\n",
    "    'Classic Movies': 'Drama',\n",
    "    'Coming of Age': 'Drama',\n",
    "    'Comedies': 'Comedy',\n",
    "    'Crime': 'Thriller',\n",
    "    'Cult Movies': 'Drama',\n",
    "    'Dance': 'Music',\n",
    "    'Disaster': 'Thriller',\n",
    "    'Documentaries': 'Documentary',\n",
    "    'Drama': 'Drama',\n",
    "    'Entertainment': 'Reality & Variety',\n",
    "    'Faith & Spirituality': 'Reality & Variety',\n",
    "    'Family': 'Family',\n",
    "    'Fantasy': 'Sci-Fi & Fantasy',\n",
    "    'History': 'Documentary',\n",
    "    'Horror': 'Horror',\n",
    "    'Independent Movies': 'Drama',\n",
    "    'International': 'International',\n",
    "    'Kids': 'Family',\n",
    "    'LGBTQ': 'Reality & Variety',\n",
    "    'Lifestyle & Culture': 'Reality & Variety',\n",
    "    'Medical': 'Documentary',\n",
    "    'Military and War': 'Documentary',\n",
    "    'Movies': '',\n",
    "    'Music': 'Music',\n",
    "    'Mystery': 'Thriller',\n",
    "    'News': 'Reality & Variety',\n",
    "    'Parody': 'Comedy',\n",
    "    'Reality': 'Reality & Variety',\n",
    "    'Romance': 'Romance',\n",
    "    'Romantic Comedies': 'Romance',\n",
    "    'Sci-Fi & Fantasy': 'Sci-Fi & Fantasy',\n",
    "    'Science & Technology': 'Documentary',\n",
    "    'Special Interest': 'Reality & Variety',\n",
    "    'Sports': 'Sports',\n",
    "    'Spy/Espionage': 'Thriller',\n",
    "    'Stand Up': 'Comedy',\n",
    "    'Superhero': 'Superhero',\n",
    "    'Survival': 'Comedy',\n",
    "    'Suspense': 'Thriller',\n",
    "    'Teen': 'Family',\n",
    "    'Thriller': 'Thriller',\n",
    "    'Variety': 'Reality & Variety',\n",
    "    'Western': 'Western',\n",
    "}\n",
    "keys = list(set(genre_level_1_dict.keys()))\n",
    "values = list(set(genre_level_1_dict.values()))\n",
    "genres = list(complete_vertical['genre_level_1'].unique())\n",
    "diff1 = list(set(keys) - set(genres))\n",
    "diff2 = list(set(genres) - set(keys))\n",
    "print(\"Values in keys but not in genres:\", diff1)\n",
    "print(\"Keys len:\", len(keys))\n",
    "print(\"Values in genres but not in keys:\", diff2)\n",
    "print(\"Genres len:\", len(genres))"
   ]
  },
  {
   "cell_type": "code",
   "execution_count": null,
   "id": "f8c040ba",
   "metadata": {},
   "outputs": [],
   "source": [
    "# Create level 1 genres and verify\n",
    "vertical_tiered_genres = vertical_clean.copy()\n",
    "vertical_tiered_genres['genre_level_1'] = vertical_tiered_genres['genre_level_1'].replace(genre_level_1_dict)\n",
    "vertical_tiered_genres['genre_level_1'].unique()"
   ]
  },
  {
   "cell_type": "code",
   "execution_count": null,
   "id": "dbc0fd31",
   "metadata": {
    "scrolled": true
   },
   "outputs": [],
   "source": [
    "# Find holes in genre level 1 data\n",
    "holes = vertical_tiered_genres.groupby(['platform', 'genre_level_1'])['score'].count().unstack(level=1)\n",
    "nan_columns = holes.columns[holes.isna().any()].tolist()\n",
    "nan_rows = holes.index[holes.isna().any(axis=1)].tolist()\n",
    "holes.loc[nan_rows, nan_columns].fillna('none')"
   ]
  },
  {
   "cell_type": "code",
   "execution_count": null,
   "id": "43058bb7",
   "metadata": {},
   "outputs": [],
   "source": [
    "# Find holes in genre 2 data\n",
    "holes2 = vertical_tiered_genres.groupby(['platform', 'genre_level_2'])['score'].count().unstack(level=1)\n",
    "nan_columns2 = holes2.columns[holes2.isna().any()].tolist()\n",
    "nan_rows2 = holes2.index[holes2.isna().any(axis=1)].tolist()\n",
    "holes2.loc[nan_rows2, nan_columns2].T.fillna('none')"
   ]
  },
  {
   "cell_type": "code",
   "execution_count": null,
   "id": "22081994",
   "metadata": {},
   "outputs": [],
   "source": [
    "# Viz: total number of films per platform\n",
    "data_no_duplicates = complete_vertical.drop_duplicates(subset='ID')\n",
    "total_number_of_films = data_no_duplicates.groupby('platform').count().iloc[:,0]\n",
    "total_number_of_films.plot(kind='bar', x='platform', y='ID', xlabel='Platform', ylabel='Number')\n",
    "plt.title(f'Total Number of Films\\n(All Platforms & All Genres)')\n",
    "plt.show()\n",
    "\n",
    "# Viz: total number of films per genre per platform \n",
    "genre1_count_unstacked = genre1_count.unstack(level=1)\n",
    "ax = genre1_count_unstacked.plot(kind='bar', xlabel='Platform', ylabel='Film Count')\n",
    "plt.title(f'Total Number of Films per Genre\\n(All Platforms)')\n",
    "ax.legend(title='Genre', bbox_to_anchor=(1.05, 1), loc='upper left')\n",
    "plt.show()\n",
    "\n",
    "# Viz: Percentage of films per level 1 genre per platform \n",
    "genre1_count = vertical_tiered_genres.groupby(['platform', 'genre_level_1'])['score'].count()\n",
    "total_films_per_platform = vertical_tiered_genres.groupby('platform')['score'].count()\n",
    "genre1_percentage = genre1_count.div(total_films_per_platform, level='platform') * 100\n",
    "genre1_percentage_unstacked = genre1_percentage.unstack(level=1)\n",
    "ax = genre1_percentage_unstacked.plot(kind='bar', xlabel='Platform', ylabel='Percentage')\n",
    "plt.title(f'Percentage of Films per Genre\\n(All Platforms)')\n",
    "ax.legend(title='Genre', bbox_to_anchor=(1.05, 1), loc='upper left')\n",
    "plt.show()"
   ]
  },
  {
   "cell_type": "code",
   "execution_count": null,
   "id": "4abe4403",
   "metadata": {
    "scrolled": false
   },
   "outputs": [],
   "source": [
    "# Viz: Average RT scores for all films and all genres per platform\n",
    "average_scores = vertical_tiered_genres.groupby('platform')['score'].mean()\n",
    "average_scores.plot(kind='bar', x='platform', y='score', xlabel='Platform', ylabel='Score')\n",
    "plt.title(f'Average Rotten Tomatoes Score\\n(All Platforms & All Genres)')\n",
    "plt.show()\n",
    "\n",
    "# Viz: Average RT scores for films per level 1 genre per platform\n",
    "genre1_scores = vertical_tiered_genres.groupby(['platform', 'genre_level_1'])['score'].mean()\n",
    "genre1_scores_unstacked = genre1_scores.unstack(level=1)\n",
    "ax = genre1_scores_unstacked.plot(kind='bar', xlabel='Platform', ylabel='Score')\n",
    "plt.title(f'Average Rotten Tomatoes Score\\n(All Platforms)')\n",
    "ax.legend(title='Genre', bbox_to_anchor=(1.05, 1), loc='upper left')\n",
    "plt.show()"
   ]
  },
  {
   "cell_type": "markdown",
   "id": "e7a23252",
   "metadata": {},
   "source": [
    "# Time Analysis"
   ]
  },
  {
   "cell_type": "code",
   "execution_count": 2,
   "id": "6f0f3baa",
   "metadata": {},
   "outputs": [
    {
     "ename": "NameError",
     "evalue": "name 'films_added_over_time' is not defined",
     "output_type": "error",
     "traceback": [
      "\u001b[0;31m---------------------------------------------------------------------------\u001b[0m",
      "\u001b[0;31mNameError\u001b[0m                                 Traceback (most recent call last)",
      "\u001b[0;32m/var/folders/k5/qs00jgw17kx162f28h638h240000gn/T/ipykernel_4947/508729469.py\u001b[0m in \u001b[0;36m<module>\u001b[0;34m\u001b[0m\n\u001b[1;32m      1\u001b[0m \u001b[0;31m# Find holes in 'added' data\u001b[0m\u001b[0;34m\u001b[0m\u001b[0;34m\u001b[0m\u001b[0;34m\u001b[0m\u001b[0m\n\u001b[0;32m----> 2\u001b[0;31m \u001b[0mpd\u001b[0m\u001b[0;34m.\u001b[0m\u001b[0mto_datetime\u001b[0m\u001b[0;34m(\u001b[0m\u001b[0mfilms_added_over_time\u001b[0m\u001b[0;34m[\u001b[0m\u001b[0;34m'added'\u001b[0m\u001b[0;34m]\u001b[0m\u001b[0;34m)\u001b[0m\u001b[0;34m\u001b[0m\u001b[0;34m\u001b[0m\u001b[0m\n\u001b[0m\u001b[1;32m      3\u001b[0m no_genres_grouped = films_added_over_time.groupby(['platform', 'added']).count(\n\u001b[1;32m      4\u001b[0m ).iloc[:, 0].unstack(level=1).T.fillna(0, inplace=False)\n\u001b[1;32m      5\u001b[0m \u001b[0mno_genres_time_series\u001b[0m \u001b[0;34m=\u001b[0m \u001b[0mpd\u001b[0m\u001b[0;34m.\u001b[0m\u001b[0mto_datetime\u001b[0m\u001b[0;34m(\u001b[0m\u001b[0mno_genres_grouped\u001b[0m\u001b[0;34m.\u001b[0m\u001b[0mindex\u001b[0m\u001b[0;34m)\u001b[0m\u001b[0;34m\u001b[0m\u001b[0;34m\u001b[0m\u001b[0m\n",
      "\u001b[0;31mNameError\u001b[0m: name 'films_added_over_time' is not defined"
     ]
    }
   ],
   "source": [
    "# Find holes in 'added' data\n",
    "pd.to_datetime(films_added_over_time['added'])\n",
    "no_genres_grouped = films_added_over_time.groupby(['platform', 'added']).count(\n",
    ").iloc[:, 0].unstack(level=1).T.fillna(0, inplace=False)\n",
    "no_genres_time_series = pd.to_datetime(no_genres_grouped.index)\n",
    "no_genres_bins = pd.cut(no_genres_time_series, 15)\n",
    "no_genres_binned = no_genres_grouped.groupby(no_genres_bins).sum()\n",
    "no_genres_binned = no_genres_binned.iloc[:, 0:4]\n",
    "year_index = ['2007','2008','2009','2010','2011','2012','2013','2014','2015','2016','2017','2018','2019','2020','2021']\n",
    "no_genres_binned.index = year_index\n",
    "no_genres_binned"
   ]
  },
  {
   "cell_type": "code",
   "execution_count": 3,
   "id": "ff867b26",
   "metadata": {
    "scrolled": false
   },
   "outputs": [
    {
     "ename": "NameError",
     "evalue": "name 'vertical_tiered_genres' is not defined",
     "output_type": "error",
     "traceback": [
      "\u001b[0;31m---------------------------------------------------------------------------\u001b[0m",
      "\u001b[0;31mNameError\u001b[0m                                 Traceback (most recent call last)",
      "\u001b[0;32m/var/folders/k5/qs00jgw17kx162f28h638h240000gn/T/ipykernel_4947/1134014587.py\u001b[0m in \u001b[0;36m<module>\u001b[0;34m\u001b[0m\n\u001b[1;32m      1\u001b[0m \u001b[0;31m# Viz: Number of Films Added per Year per Platform\u001b[0m\u001b[0;34m\u001b[0m\u001b[0;34m\u001b[0m\u001b[0;34m\u001b[0m\u001b[0m\n\u001b[0;32m----> 2\u001b[0;31m \u001b[0mfilms_added_over_time\u001b[0m \u001b[0;34m=\u001b[0m \u001b[0mvertical_tiered_genres\u001b[0m\u001b[0;34m.\u001b[0m\u001b[0mdrop_duplicates\u001b[0m\u001b[0;34m(\u001b[0m\u001b[0msubset\u001b[0m\u001b[0;34m=\u001b[0m\u001b[0;34m'ID'\u001b[0m\u001b[0;34m)\u001b[0m\u001b[0;34m\u001b[0m\u001b[0;34m\u001b[0m\u001b[0m\n\u001b[0m\u001b[1;32m      3\u001b[0m \u001b[0mgenre1_over_time\u001b[0m \u001b[0;34m=\u001b[0m \u001b[0mfilms_added_over_time\u001b[0m\u001b[0;34m.\u001b[0m\u001b[0mcopy\u001b[0m\u001b[0;34m(\u001b[0m\u001b[0;34m)\u001b[0m\u001b[0;34m\u001b[0m\u001b[0;34m\u001b[0m\u001b[0m\n\u001b[1;32m      4\u001b[0m \u001b[0mgenre1_over_time\u001b[0m\u001b[0;34m[\u001b[0m\u001b[0;34m'added'\u001b[0m\u001b[0;34m]\u001b[0m \u001b[0;34m=\u001b[0m \u001b[0mpd\u001b[0m\u001b[0;34m.\u001b[0m\u001b[0mto_datetime\u001b[0m\u001b[0;34m(\u001b[0m\u001b[0mgenre1_over_time\u001b[0m\u001b[0;34m[\u001b[0m\u001b[0;34m'added'\u001b[0m\u001b[0;34m]\u001b[0m\u001b[0;34m)\u001b[0m\u001b[0;34m\u001b[0m\u001b[0;34m\u001b[0m\u001b[0m\n\u001b[1;32m      5\u001b[0m \u001b[0mgenre1_over_time\u001b[0m\u001b[0;34m[\u001b[0m\u001b[0;34m'added'\u001b[0m\u001b[0;34m]\u001b[0m \u001b[0;34m=\u001b[0m \u001b[0mgenre1_over_time\u001b[0m\u001b[0;34m[\u001b[0m\u001b[0;34m'added'\u001b[0m\u001b[0;34m]\u001b[0m\u001b[0;34m.\u001b[0m\u001b[0mdt\u001b[0m\u001b[0;34m.\u001b[0m\u001b[0myear\u001b[0m\u001b[0;34m\u001b[0m\u001b[0;34m\u001b[0m\u001b[0m\n",
      "\u001b[0;31mNameError\u001b[0m: name 'vertical_tiered_genres' is not defined"
     ]
    }
   ],
   "source": [
    "# Viz: Number of Films Added per Year per Platform\n",
    "films_added_over_time = vertical_tiered_genres.drop_duplicates(subset='ID')\n",
    "genre1_over_time = films_added_over_time.copy()\n",
    "genre1_over_time['added'] = pd.to_datetime(genre1_over_time['added'])\n",
    "genre1_over_time['added'] = genre1_over_time['added'].dt.year\n",
    "genre1_grouped_plot = genre1_over_time.groupby(['platform', 'genre_level_1','added']).count().iloc[:,0]\n",
    "data = genre1_grouped_plot.reset_index()\n",
    "# data['year'] = data['year'].astype(int)\n",
    "data.columns = ['platform', 'genre', 'year', 'count']\n",
    "pivot_data = data.pivot_table(index='year', columns='platform', values='count', fill_value=0).iloc[:,1:]\n",
    "pivot_data.plot(kind='line', marker='o')\n",
    "plt.title(f'Films Added Over Time\\n(All Platforms and Genres)')\n",
    "plt.xlabel('Year')\n",
    "plt.ylabel('Film Count')\n",
    "plt.show()\n",
    "\n",
    "# Viz: Number of Films Added per Year per Genre per Platform\n",
    "platforms = data['platform'].unique()[1:]\n",
    "for platform in platforms:\n",
    "    platform_data = data[data['platform'] == platform]\n",
    "    pivot_data = platform_data.pivot_table(index='year', columns='genre', values='count', fill_value=0)\n",
    "    pivot_data.plot(kind='line', marker='o')\n",
    "    plt.title(f'Films Added Over Time\\n({platform})')\n",
    "    plt.xlabel('Year')\n",
    "    plt.ylabel('Film Count')\n",
    "    plt.legend(title='Genre', bbox_to_anchor=(1.05, 1), loc='upper left')\n",
    "    ax = plt.gca() \n",
    "    ax.xaxis.set_major_locator(MaxNLocator(integer=True))  \n",
    "    plt.show()"
   ]
  },
  {
   "cell_type": "code",
   "execution_count": null,
   "id": "45dbb6b0",
   "metadata": {},
   "outputs": [],
   "source": [
    "# # ------- UNUSED CODE -------\n",
    "# # Get average RT scores per genre level 2 for each platform \n",
    "# genre2_scores = vertical_tiered_genres.groupby(['platform', 'genre_level_2'])['score'].mean()\n",
    "# genre2_scores\n",
    "# # Calculate film count per genre per platform\n",
    "# genre2_count = vertical_tiered_genres.groupby(['platform', 'genre_level_2'])['score'].count()\n",
    "# # Calculate film percentage per genre per platform\n",
    "# genre2_percentage = genre2_count.div(total_films_per_platform, level='platform') * 100\n",
    "# genre2_percentage"
   ]
  },
  {
   "cell_type": "markdown",
   "id": "6decc063",
   "metadata": {},
   "source": [
    "# Sunburst"
   ]
  },
  {
   "cell_type": "code",
   "execution_count": 112,
   "id": "513dd714",
   "metadata": {},
   "outputs": [],
   "source": [
    "# import json\n",
    "# import pandas as pd\n",
    "\n",
    "# grouped_df = vertical_tiered_genres.groupby(['platform', 'genre_level_1', 'genre_level_2']).count().iloc[:, 0].to_frame()\n",
    "# grouped_df = grouped_df.reset_index()\n",
    "# grouped_df = grouped_df.rename(columns={grouped_df.columns[-1]: 'count'})\n",
    "\n",
    "# def create_nested_json(df, levels, value_column):\n",
    "#     def nested_dict(level, data):\n",
    "#         if level == len(levels) - 1:\n",
    "#             return [{\"name\": key, \"size\": int(data[data[levels[level]] == key][value_column].sum())} for key in data[levels[level]].unique()]\n",
    "#         else:\n",
    "#             return [{\"name\": key, \"children\": nested_dict(level + 1, data[data[levels[level]] == key])} for key in data[levels[level]].unique()]\n",
    "    \n",
    "#     return {\"name\": \"flare\", \"children\": nested_dict(0, df)}\n",
    "\n",
    "# levels = ['platform', 'genre_level_1', 'genre_level_2']\n",
    "# value_column = 'count'\n",
    "\n",
    "# nested_data = create_nested_json(grouped_df, levels, value_column)\n",
    "\n",
    "# json_data = json.dumps(nested_data, indent=2)\n",
    "\n",
    "# with open('nested_data.json', 'w') as f:\n",
    "#     f.write(json_data)\n"
   ]
  },
  {
   "cell_type": "code",
   "execution_count": null,
   "id": "a650fbf1",
   "metadata": {},
   "outputs": [],
   "source": [
    "# #Create Sunburst JSON\n",
    "# def create_sunburst_json(df, levels, value_column):\n",
    "#     def nested_dict(level, data):\n",
    "#         if level == len(levels) - 1:\n",
    "#             return {key: {'value': data[data[levels[level]] == key][value_column].sum()} for key in data[levels[level]].unique()}\n",
    "#         else:\n",
    "#             return {key: nested_dict(level + 1, data[data[levels[level]] == key]) for key in data[levels[level]].unique()}\n",
    "    \n",
    "#     return nested_dict(0, df)\n",
    "\n",
    "# levels = ['level1', 'level2']\n",
    "# value_column = 'value'\n",
    "\n",
    "# sunburst_data = create_sunburst_json(df, levels, value_column)\n",
    "\n",
    "\n",
    "# root_name = 'Root'\n",
    "# sunburst_data = {root_name: sunburst_data}\n",
    "\n",
    "# import json\n",
    "\n",
    "# json_data = json.dumps(sunburst_data, indent=2)\n",
    "\n",
    "\n",
    "# with open('sunburst_data.json', 'w') as f:\n",
    "#     f.write(json_data)\n",
    "\n"
   ]
  },
  {
   "cell_type": "code",
   "execution_count": null,
   "id": "4888e857",
   "metadata": {},
   "outputs": [],
   "source": [
    "# Triage genres data\n"
   ]
  }
 ],
 "metadata": {
  "kernelspec": {
   "display_name": "PythonData",
   "language": "python",
   "name": "pythondata"
  },
  "language_info": {
   "codemirror_mode": {
    "name": "ipython",
    "version": 3
   },
   "file_extension": ".py",
   "mimetype": "text/x-python",
   "name": "python",
   "nbconvert_exporter": "python",
   "pygments_lexer": "ipython3",
   "version": "3.7.13"
  }
 },
 "nbformat": 4,
 "nbformat_minor": 5
}
